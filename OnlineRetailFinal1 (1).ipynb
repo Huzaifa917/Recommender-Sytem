{
  "cells": [
    {
      "cell_type": "code",
      "execution_count": null,
      "metadata": {
        "colab": {
          "base_uri": "https://localhost:8080/"
        },
        "id": "6GnMOKBDL3Se",
        "outputId": "5c94bbcc-068c-4374-9269-c3cdee4263cf"
      },
      "outputs": [
        {
          "name": "stdout",
          "output_type": "stream",
          "text": [
            "Number of rows: 541909\n",
            "Number of columns: 8\n",
            "['United Kingdom' 'France' 'Australia' 'Netherlands' 'Germany' 'Norway'\n",
            " 'EIRE' 'Switzerland' 'Spain' 'Poland' 'Portugal' 'Italy' 'Belgium'\n",
            " 'Lithuania' 'Japan' 'Iceland' 'Channel Islands' 'Denmark' 'Cyprus'\n",
            " 'Sweden' 'Austria' 'Israel' 'Finland' 'Bahrain' 'Greece' 'Hong Kong'\n",
            " 'Singapore' 'Lebanon' 'United Arab Emirates' 'Saudi Arabia'\n",
            " 'Czech Republic' 'Canada' 'Unspecified' 'Brazil' 'USA'\n",
            " 'European Community' 'Malta' 'RSA']\n",
            "  InvoiceNo StockCode                          Description  Quantity  \\\n",
            "0    536365    85123A   WHITE HANGING HEART T-LIGHT HOLDER         6   \n",
            "1    536365     71053                  WHITE METAL LANTERN         6   \n",
            "2    536365    84406B       CREAM CUPID HEARTS COAT HANGER         8   \n",
            "3    536365    84029G  KNITTED UNION FLAG HOT WATER BOTTLE         6   \n",
            "4    536365    84029E       RED WOOLLY HOTTIE WHITE HEART.         6   \n",
            "\n",
            "      InvoiceDate  UnitPrice  CustomerID         Country  \n",
            "0  12/1/2010 8:26       2.55     17850.0  United Kingdom  \n",
            "1  12/1/2010 8:26       3.39     17850.0  United Kingdom  \n",
            "2  12/1/2010 8:26       2.75     17850.0  United Kingdom  \n",
            "3  12/1/2010 8:26       3.39     17850.0  United Kingdom  \n",
            "4  12/1/2010 8:26       3.39     17850.0  United Kingdom  \n"
          ]
        }
      ],
      "source": [
        "#@title Default title text\n",
        "import pandas as pd\n",
        "\n",
        "# Load the dataset from the CSV file\n",
        "df = pd.read_csv('OnlineRetail.csv', encoding='unicode_escape')\n",
        "\n",
        "\n",
        "# Get the number of rows and columns in the dataset\n",
        "num_rows = df.shape[0]\n",
        "num_cols = df.shape[1]\n",
        "\n",
        "# Print the number of rows and columns\n",
        "print('Number of rows:', num_rows)\n",
        "print('Number of columns:', num_cols)\n",
        "\n",
        "countries = df['Country'].unique()\n",
        "print(countries)\n",
        "\n",
        "\n",
        "# Display the first 5 rows of the dataframe\n",
        "print(df.head())\n"
      ]
    },
    {
      "cell_type": "markdown",
      "metadata": {
        "id": "s3d_CcFixKAU"
      },
      "source": [
        "### ***DATA PREPROCESSING***"
      ]
    },
    {
      "cell_type": "markdown",
      "metadata": {
        "id": "r_UVt8fcrGTI"
      },
      "source": [
        "***CHECK FOR THE MISSING VALUE IN THE DESCRIPTION COLUMN ***"
      ]
    },
    {
      "cell_type": "code",
      "execution_count": null,
      "metadata": {
        "colab": {
          "base_uri": "https://localhost:8080/"
        },
        "id": "y5H_hlvrlnzY",
        "outputId": "a5d99bf4-8b17-4139-b411-23cfb4026ca8"
      },
      "outputs": [
        {
          "name": "stdout",
          "output_type": "stream",
          "text": [
            "1454\n"
          ]
        }
      ],
      "source": [
        "# Check for missing values in the 'Description' column\n",
        "print(df['Description'].isnull().sum())\n",
        "\n",
        "# Fill in missing values with mode value\n",
        "mode_value = df['Description'].mode()[0]\n",
        "df['Description'].fillna(mode_value, inplace=True)"
      ]
    },
    {
      "cell_type": "code",
      "execution_count": null,
      "metadata": {
        "colab": {
          "base_uri": "https://localhost:8080/"
        },
        "id": "ddH8-qoeltbC",
        "outputId": "3c3f9fbc-44f8-49a3-dd4a-7b2cf508bca5"
      },
      "outputs": [
        {
          "name": "stdout",
          "output_type": "stream",
          "text": [
            "0\n"
          ]
        }
      ],
      "source": [
        "# Check for missing values in the 'Description' column\n",
        "print(df['Description'].isnull().sum())\n"
      ]
    },
    {
      "cell_type": "markdown",
      "metadata": {
        "id": "EeZkMg3JwisB"
      },
      "source": [
        "**Create a new column for total amount spent per customer**"
      ]
    },
    {
      "cell_type": "code",
      "execution_count": null,
      "metadata": {
        "id": "bK0RbpiKmvgK"
      },
      "outputs": [],
      "source": [
        "# Create a new column for total amount spent per customer\n",
        "df['TotalAmount'] = df['Quantity'] * df['UnitPrice']\n",
        "\n",
        "# Group the data by customer ID and calculate total amount spent and frequency of purchases\n",
        "customer_data = df.groupby('CustomerID').agg({\n",
        "    'InvoiceNo': 'nunique',     # Frequency of purchases\n",
        "    'TotalAmount': 'sum'        # Total amount spent\n",
        "}).reset_index()"
      ]
    },
    {
      "cell_type": "code",
      "execution_count": null,
      "metadata": {
        "colab": {
          "base_uri": "https://localhost:8080/"
        },
        "id": "x4Grm_4JmyeE",
        "outputId": "491a11bb-7d20-48f1-f00a-079c4b59b17c"
      },
      "outputs": [
        {
          "name": "stdout",
          "output_type": "stream",
          "text": [
            "   CustomerID  InvoiceNo  TotalAmount\n",
            "0     12346.0          2         0.00\n",
            "1     12347.0          7      4310.00\n",
            "2     12348.0          4      1797.24\n",
            "3     12349.0          1      1757.55\n",
            "4     12350.0          1       334.40\n"
          ]
        }
      ],
      "source": [
        "print(customer_data.head())"
      ]
    },
    {
      "cell_type": "code",
      "execution_count": null,
      "metadata": {
        "id": "AwKwtREb1lNn"
      },
      "outputs": [],
      "source": [
        "# Rename the columns to more descriptive names\n",
        "customer_data.rename(columns={'InvoiceNo': 'Frequency', 'TotalAmount': 'MonetaryValue'}, inplace=True)"
      ]
    },
    {
      "cell_type": "code",
      "execution_count": null,
      "metadata": {
        "colab": {
          "base_uri": "https://localhost:8080/"
        },
        "id": "SCHFbRmznVJ2",
        "outputId": "efa8cac5-86f6-4d91-c6df-31d210d51d8b"
      },
      "outputs": [
        {
          "name": "stdout",
          "output_type": "stream",
          "text": [
            "CSV file created successfully\n"
          ]
        }
      ],
      "source": [
        "# Write the dataframe to a CSV file\n",
        "customer_data.to_csv('customer_metrics.csv', index=False)\n",
        "\n",
        "# Display a message to confirm that the file has been created\n",
        "print('CSV file created successfully')\n"
      ]
    },
    {
      "cell_type": "code",
      "execution_count": null,
      "metadata": {
        "id": "2eiVuosmnk3J"
      },
      "outputs": [],
      "source": [
        "\n"
      ]
    },
    {
      "cell_type": "markdown",
      "metadata": {
        "id": "b8Df7aPLye0W"
      },
      "source": [
        "# Exp Data Analytics"
      ]
    },
    {
      "cell_type": "markdown",
      "metadata": {
        "id": "mH-7z6FEys0F"
      },
      "source": [
        "VISUALIZATION OF CUSTOMER METRICS CSV FILE USING DIFFERNET PLOTTING TECHNIQUE"
      ]
    },
    {
      "cell_type": "code",
      "execution_count": null,
      "metadata": {
        "colab": {
          "base_uri": "https://localhost:8080/",
          "height": 1000
        },
        "id": "uKkTfu7RpN7Z",
        "outputId": "eca057fb-c851-4891-89f7-d8dbd8234524"
      },
      "outputs": [
        {
          "data": {
            "image/png": "[encoded data removed]",
            "text/plain": [
              "<Figure size 432x288 with 1 Axes>"
            ]
          },
          "metadata": {},
          "output_type": "display_data"
        },
        {
          "data": {
            "image/png": "[encoded data removed]",
            "text/plain": [
              "<Figure size 432x288 with 1 Axes>"
            ]
          },
          "metadata": {},
          "output_type": "display_data"
        },
        {
          "data": {
            "image/png": "[encoded data removed]",
            "text/plain": [
              "<Figure size 432x288 with 1 Axes>"
            ]
          },
          "metadata": {},
          "output_type": "display_data"
        }
      ],
      "source": [
        "import pandas as pd\n",
        "import numpy as np\n",
        "import matplotlib.pyplot as plt\n",
        "import seaborn as sns\n",
        "# Plot a histogram of the total amount spent per customer\n",
        "plt.hist(customer_data['MonetaryValue'], bins=50)\n",
        "plt.title('Distribution of Total Amount Spent per Customer')\n",
        "plt.xlabel('Total Amount Spent')\n",
        "plt.ylabel('Number of Customers')\n",
        "plt.show()\n",
        "\n",
        "# Plot a scatterplot of frequency of purchases vs. total amount spent\n",
        "sns.scatterplot(data=customer_data, x='Frequency', y='MonetaryValue')\n",
        "plt.title('Frequency of Purchases vs. Total Amount Spent per Customer')\n",
        "plt.show()\n",
        "\n",
        "# Plot a bar chart of the top 10 products by quantity sold\n",
        "top_products = df.groupby('Description')['Quantity'].sum().nlargest(10)\n",
        "plt.bar(top_products.index, top_products.values)\n",
        "plt.xticks(rotation=90)\n",
        "plt.title('Top 10 Products by Quantity Sold')\n",
        "plt.xlabel('Product Description')\n",
        "plt.ylabel('Quantity Sold')\n",
        "plt.show()"
      ]
    },
    {
      "cell_type": "code",
      "execution_count": null,
      "metadata": {
        "colab": {
          "base_uri": "https://localhost:8080/"
        },
        "id": "fSa5fDkIzGNS",
        "outputId": "a4d952b9-3717-4cb3-c571-4fd9821eddf9"
      },
      "outputs": [
        {
          "name": "stdout",
          "output_type": "stream",
          "text": [
            "Potential outliers:       CustomerID  Frequency  MonetaryValue\n",
            "1        12347.0          7        4310.00\n",
            "10       12357.0          1        6207.67\n",
            "12       12359.0          6        6245.53\n",
            "15       12362.0         13        5154.58\n",
            "27       12378.0          1        4008.62\n",
            "...          ...        ...            ...\n",
            "4324     18223.0         27        6315.23\n",
            "4326     18225.0         17        5361.02\n",
            "4327     18226.0         14        5192.10\n",
            "4330     18229.0         20        7276.90\n",
            "4347     18251.0          1        4314.72\n",
            "\n",
            "[423 rows x 3 columns]\n"
          ]
        }
      ],
      "source": [
        "# Find potential outliers\n",
        "q1 = customer_data['MonetaryValue'].quantile(0.25)\n",
        "q3 = customer_data['MonetaryValue'].quantile(0.75)\n",
        "iqr = q3 - q1\n",
        "upper_bound = q3 + (1.5 * iqr)\n",
        "lower_bound = q1 - (1.5 * iqr)\n",
        "potential_outliers = customer_data[(customer_data['MonetaryValue'] > upper_bound) | (customer_data['MonetaryValue'] < lower_bound)]\n",
        "print('Potential outliers:', potential_outliers)\n"
      ]
    },
    {
      "cell_type": "markdown",
      "metadata": {
        "id": "F4vvS-3p2L6v"
      },
      "source": []
    },
    {
      "cell_type": "code",
      "execution_count": null,
      "metadata": {
        "colab": {
          "base_uri": "https://localhost:8080/",
          "height": 312
        },
        "id": "U1RGF0wv2MSm",
        "outputId": "a6578cbe-5773-4c9d-a6e4-cb9fa814ed49"
      },
      "outputs": [
        {
          "data": {
            "text/plain": [
              "Text(0, 0.5, 'Frequency')"
            ]
          },
          "execution_count": 51,
          "metadata": {},
          "output_type": "execute_result"
        },
        {
          "data": {
            "image/png": "[encoded data removed]",
            "text/plain": [
              "<Figure size 432x288 with 1 Axes>"
            ]
          },
          "metadata": {},
          "output_type": "display_data"
        }
      ],
      "source": [
        "import seaborn as sns\n",
        "import matplotlib.pyplot as plt\n",
        "\n",
        "# Create scatter plot\n",
        "sns.scatterplot(x='MonetaryValue', y='Frequency', data=customer_data)\n",
        "\n",
        "# Calculate z-scores\n",
        "z_scores = (customer_data[['MonetaryValue', 'Frequency']] - customer_data[['MonetaryValue', 'Frequency']].mean()) / customer_data[['MonetaryValue', 'Frequency']].std()\n",
        "\n",
        "# Identify outliers using z-scores\n",
        "outliers = (z_scores['MonetaryValue'].abs() > 3) | (z_scores['Frequency'].abs() > 3)\n",
        "\n",
        "# Mask outliers from the scatter plot\n",
        "sns.scatterplot(x='MonetaryValue', y='Frequency', data=customer_data[~outliers])\n",
        "\n",
        "# Add title and axis labels\n",
        "plt.title('Scatter plot of MonetaryValue and Frequency')\n",
        "plt.xlabel('MonetaryValue')\n",
        "plt.ylabel('Frequency')\n",
        "\n"
      ]
    },
    {
      "cell_type": "markdown",
      "metadata": {
        "id": "RbYqCp7_Ttix"
      },
      "source": [
        "# **Calculate the most popular product**"
      ]
    },
    {
      "cell_type": "code",
      "execution_count": null,
      "metadata": {
        "colab": {
          "base_uri": "https://localhost:8080/",
          "height": 784
        },
        "id": "5Dk-e1Cp4SCR",
        "outputId": "f544dc41-670b-4bdc-c03a-6436d73756e3"
      },
      "outputs": [
        {
          "name": "stdout",
          "output_type": "stream",
          "text": [
            "Most popular products:\n",
            "Description\n",
            "WORLD WAR 2 GLIDERS ASSTD DESIGNS     53847\n",
            "JUMBO BAG RED RETROSPOT               47363\n",
            "ASSORTED COLOUR BIRD ORNAMENT         36381\n",
            "POPCORN HOLDER                        36334\n",
            "PACK OF 72 RETROSPOT CAKE CASES       36039\n",
            "RABBIT NIGHT LIGHT                    30680\n",
            "MINI PAINT SET VINTAGE                26437\n",
            "PACK OF 12 LONDON TISSUES             26315\n",
            "PACK OF 60 PINK PAISLEY CAKE CASES    24753\n",
            "VICTORIAN GLASS HANGING T-LIGHT       23854\n",
            "Name: Quantity, dtype: int64\n",
            "Index(['InvoiceNo', 'StockCode', 'Description', 'Quantity', 'InvoiceDate',\n",
            "       'UnitPrice', 'CustomerID', 'Country', 'TotalAmount',\n",
            "       'TotalPurchaseAmount'],\n",
            "      dtype='object')\n"
          ]
        },
        {
          "data": {
            "image/png": "[encoded data removed]",
            "text/plain": [
              "<Figure size 432x288 with 1 Axes>"
            ]
          },
          "metadata": {},
          "output_type": "display_data"
        }
      ],
      "source": [
        "\n",
        "\n",
        "# Calculate the most popular products\n",
        "most_popular_products = df.groupby(['Description'])['Quantity'].sum().sort_values(ascending=False)[:10]\n",
        "print('Most popular products:')\n",
        "print(most_popular_products)\n",
        "print(df.columns)\n",
        "\n",
        "\n",
        "\n",
        "\n",
        "# Create a bar chart of the most popular products\n",
        "plt.bar(most_popular_products.index, most_popular_products.values)\n",
        "plt.xticks(rotation=90)\n",
        "plt.title('Most Popular Products')\n",
        "plt.xlabel('Product')\n",
        "plt.ylabel('Quantity Sold')\n",
        "plt.show()\n",
        "\n"
      ]
    },
    {
      "cell_type": "markdown",
      "metadata": {
        "id": "ixxwFMu-TYCy"
      },
      "source": [
        "# VISUALIZATION OF DATA W.R.T COUNTRIES + APRIORI ALGORITHM DATA MINING TECHNIQUE"
      ]
    },
    {
      "cell_type": "code",
      "execution_count": null,
      "metadata": {
        "colab": {
          "base_uri": "https://localhost:8080/"
        },
        "id": "ZRLQ7H6QTlIN",
        "outputId": "b3c78482-04eb-4527-c741-07b84c18b941"
      },
      "outputs": [
        {
          "name": "stdout",
          "output_type": "stream",
          "text": [
            "['United Kingdom' 'France' 'Australia' 'Netherlands' 'Germany' 'Norway'\n",
            " 'EIRE' 'Switzerland' 'Spain' 'Poland' 'Portugal' 'Italy' 'Belgium'\n",
            " 'Lithuania' 'Japan' 'Iceland' 'Channel Islands' 'Denmark' 'Cyprus'\n",
            " 'Sweden' 'Austria' 'Israel' 'Finland' 'Bahrain' 'Greece' 'Hong Kong'\n",
            " 'Singapore' 'Lebanon' 'United Arab Emirates' 'Saudi Arabia'\n",
            " 'Czech Republic' 'Canada' 'Unspecified' 'Brazil' 'USA'\n",
            " 'European Community' 'Malta' 'RSA']\n"
          ]
        }
      ],
      "source": [
        "countries = df['Country'].unique()\n",
        "print(countries)"
      ]
    },
    {
      "cell_type": "code",
      "execution_count": null,
      "metadata": {
        "colab": {
          "base_uri": "https://localhost:8080/"
        },
        "id": "axrGn5i7NEfP",
        "outputId": "d8d5c14e-a9ec-400f-b925-ae9b81d1006f"
      },
      "outputs": [
        {
          "name": "stdout",
          "output_type": "stream",
          "text": [
            "                      Quantity\n",
            "Country                       \n",
            "Australia                83653\n",
            "Austria                   4827\n",
            "Bahrain                    260\n",
            "Belgium                  23152\n",
            "Brazil                     356\n",
            "Canada                    2763\n",
            "Channel Islands           9479\n",
            "Cyprus                    6317\n",
            "Czech Republic             592\n",
            "Denmark                   8188\n",
            "EIRE                    142637\n",
            "European Community         497\n",
            "Finland                  10666\n",
            "France                  110480\n",
            "Germany                 117448\n",
            "Greece                    1556\n",
            "Hong Kong                 4769\n",
            "Iceland                   2458\n",
            "Israel                    4353\n",
            "Italy                     7999\n",
            "Japan                    25218\n",
            "Lebanon                    386\n",
            "Lithuania                  652\n",
            "Malta                      944\n",
            "Netherlands             200128\n",
            "Norway                   19247\n",
            "Poland                    3653\n",
            "Portugal                 16180\n",
            "RSA                        352\n",
            "Saudi Arabia                75\n",
            "Singapore                 5234\n",
            "Spain                    26824\n",
            "Sweden                   35637\n",
            "Switzerland              30325\n",
            "USA                       1034\n",
            "United Arab Emirates       982\n",
            "United Kingdom         4263829\n",
            "Unspecified               3300\n"
          ]
        }
      ],
      "source": [
        "import pandas as pd\n",
        "\n",
        "# Create a new dataframe with the total quantities for each country\n",
        "country_totals = df.groupby('Country')['Quantity'].sum().reset_index()\n",
        "\n",
        "# Pivot the data to create a table\n",
        "table = pd.pivot_table(country_totals, values='Quantity', index='Country')\n",
        "\n",
        "# Display the table\n",
        "print(table)"
      ]
    },
    {
      "cell_type": "markdown",
      "metadata": {
        "id": "UShioMMPdr9E"
      },
      "source": [
        "SORTING "
      ]
    },
    {
      "cell_type": "code",
      "execution_count": null,
      "metadata": {
        "colab": {
          "base_uri": "https://localhost:8080/"
        },
        "id": "OKzohzW-dv4p",
        "outputId": "70dc4720-1618-4ce0-b0a9-301a4b428180"
      },
      "outputs": [
        {
          "name": "stdout",
          "output_type": "stream",
          "text": [
            "The country with the highest quantity is United Kingdom with 4263829 total quantity.\n"
          ]
        }
      ],
      "source": [
        "# Sort the country_totals dataframe in descending order based on 'Quantity' column\n",
        "sorted_country_totals = country_totals.sort_values('Quantity', ascending=False)\n",
        "\n",
        "# Get the country with the highest quantity\n",
        "highest_country = sorted_country_totals.iloc[0]['Country']\n",
        "highest_quantity = sorted_country_totals.iloc[0]['Quantity']\n",
        "\n",
        "# Print the country with the highest quantity\n",
        "print(f\"The country with the highest quantity is {highest_country} with {highest_quantity} total quantity.\")\n"
      ]
    },
    {
      "cell_type": "markdown",
      "metadata": {
        "id": "qH40nXtHd6Af"
      },
      "source": [
        "DATA PLOTTING"
      ]
    },
    {
      "cell_type": "code",
      "execution_count": null,
      "metadata": {
        "colab": {
          "base_uri": "https://localhost:8080/",
          "height": 393
        },
        "id": "KgNNwrzWd1RR",
        "outputId": "e5710153-758f-47fa-ca43-c386a5822362"
      },
      "outputs": [
        {
          "data": {
            "image/png": "[encoded data removed]",
            "text/plain": [
              "<Figure size 432x288 with 1 Axes>"
            ]
          },
          "metadata": {},
          "output_type": "display_data"
        }
      ],
      "source": [
        "import pandas as pd\n",
        "import matplotlib.pyplot as plt\n",
        "\n",
        "# Create a new dataframe with the total quantities for each country\n",
        "country_totals = df.groupby('Country')['Quantity'].sum().reset_index()\n",
        "\n",
        "# Create a table plot using pandas\n",
        "country_totals.plot(kind='bar', x='Country', y='Quantity')\n",
        "\n",
        "# Set the plot title and axis labels\n",
        "plt.title('Total Quantities by Country')\n",
        "plt.xlabel('Country')\n",
        "plt.ylabel('Quantity')\n",
        "\n",
        "# Set the y-axis limits\n",
        "plt.ylim(0, 300000)\n",
        "\n",
        "# Show the plot\n",
        "plt.show()\n"
      ]
    },
    {
      "cell_type": "markdown",
      "metadata": {
        "id": "FRBBP6Z9eHVw"
      },
      "source": [
        "CHOROPLETH MAP"
      ]
    },
    {
      "cell_type": "code",
      "execution_count": null,
      "metadata": {
        "colab": {
          "base_uri": "https://localhost:8080/",
          "height": 542
        },
        "id": "vM6JTZaqeAjo",
        "outputId": "9b6e3d14-d896-46bf-b96b-81a88c104ed4"
      },
      "outputs": [
        {
          "data": {
            "text/html": [
              "<html>\n",
              "<head><meta charset=\"utf-8\" /></head>\n",
              "<body>\n",
              "    <div>            <script src=\"https://cdnjs.cloudflare.com/ajax/libs/mathjax/2.7.5/MathJax.js?config=TeX-AMS-MML_SVG\"></script><script type=\"text/javascript\">if (window.MathJax && window.MathJax.Hub && window.MathJax.Hub.Config) {window.MathJax.Hub.Config({SVG: {font: \"STIX-Web\"}});}</script>                <script type=\"text/javascript\">window.PlotlyConfig = {MathJaxConfig: 'local'};</script>\n",
              "        <script src=\"https://cdn.plot.ly/plotly-2.18.2.min.js\"></script>                <div id=\"2ead3ff9-f500-487c-bfca-3b7612db8e1a\" class=\"plotly-graph-div\" style=\"height:525px; width:100%;\"></div>            <script type=\"text/javascript\">                                    window.PLOTLYENV=window.PLOTLYENV || {};                                    if (document.getElementById(\"2ead3ff9-f500-487c-bfca-3b7612db8e1a\")) {                    Plotly.newPlot(                        \"2ead3ff9-f500-487c-bfca-3b7612db8e1a\",                        [{\"coloraxis\":\"coloraxis\",\"geo\":\"geo\",\"hovertemplate\":\"Country=%{location}<br>Quantity=%{z}<extra></extra>\",\"locationmode\":\"country names\",\"locations\":[\"Australia\",\"Austria\",\"Bahrain\",\"Belgium\",\"Brazil\",\"Canada\",\"Channel Islands\",\"Cyprus\",\"Czech Republic\",\"Denmark\",\"EIRE\",\"European Community\",\"Finland\",\"France\",\"Germany\",\"Greece\",\"Hong Kong\",\"Iceland\",\"Israel\",\"Italy\",\"Japan\",\"Lebanon\",\"Lithuania\",\"Malta\",\"Netherlands\",\"Norway\",\"Poland\",\"Portugal\",\"RSA\",\"Saudi Arabia\",\"Singapore\",\"Spain\",\"Sweden\",\"Switzerland\",\"USA\",\"United Arab Emirates\",\"United Kingdom\",\"Unspecified\"],\"name\":\"\",\"z\":[83653,4827,260,23152,356,2763,9479,6317,592,8188,142637,497,10666,110480,117448,1556,4769,2458,4353,7999,25218,386,652,944,200128,19247,3653,16180,352,75,5234,26824,35637,30325,1034,982,4263829,3300],\"type\":\"choropleth\"}],                        {\"template\":{\"data\":{\"histogram2dcontour\":[{\"type\":\"histogram2dcontour\",\"colorbar\":{\"outlinewidth\":0,\"ticks\":\"\"},\"colorscale\":[[0.0,\"#0d0887\"],[0.1111111111111111,\"#46039f\"],[0.2222222222222222,\"#7201a8\"],[0.3333333333333333,\"#9c179e\"],[0.4444444444444444,\"#bd3786\"],[0.5555555555555556,\"#d8576b\"],[0.6666666666666666,\"#ed7953\"],[0.7777777777777778,\"#fb9f3a\"],[0.8888888888888888,\"#fdca26\"],[1.0,\"#f0f921\"]]}],\"choropleth\":[{\"type\":\"choropleth\",\"colorbar\":{\"outlinewidth\":0,\"ticks\":\"\"}}],\"histogram2d\":[{\"type\":\"histogram2d\",\"colorbar\":{\"outlinewidth\":0,\"ticks\":\"\"},\"colorscale\":[[0.0,\"#0d0887\"],[0.1111111111111111,\"#46039f\"],[0.2222222222222222,\"#7201a8\"],[0.3333333333333333,\"#9c179e\"],[0.4444444444444444,\"#bd3786\"],[0.5555555555555556,\"#d8576b\"],[0.6666666666666666,\"#ed7953\"],[0.7777777777777778,\"#fb9f3a\"],[0.8888888888888888,\"#fdca26\"],[1.0,\"#f0f921\"]]}],\"heatmap\":[{\"type\":\"heatmap\",\"colorbar\":{\"outlinewidth\":0,\"ticks\":\"\"},\"colorscale\":[[0.0,\"#0d0887\"],[0.1111111111111111,\"#46039f\"],[0.2222222222222222,\"#7201a8\"],[0.3333333333333333,\"#9c179e\"],[0.4444444444444444,\"#bd3786\"],[0.5555555555555556,\"#d8576b\"],[0.6666666666666666,\"#ed7953\"],[0.7777777777777778,\"#fb9f3a\"],[0.8888888888888888,\"#fdca26\"],[1.0,\"#f0f921\"]]}],\"heatmapgl\":[{\"type\":\"heatmapgl\",\"colorbar\":{\"outlinewidth\":0,\"ticks\":\"\"},\"colorscale\":[[0.0,\"#0d0887\"],[0.1111111111111111,\"#46039f\"],[0.2222222222222222,\"#7201a8\"],[0.3333333333333333,\"#9c179e\"],[0.4444444444444444,\"#bd3786\"],[0.5555555555555556,\"#d8576b\"],[0.6666666666666666,\"#ed7953\"],[0.7777777777777778,\"#fb9f3a\"],[0.8888888888888888,\"#fdca26\"],[1.0,\"#f0f921\"]]}],\"contourcarpet\":[{\"type\":\"contourcarpet\",\"colorbar\":{\"outlinewidth\":0,\"ticks\":\"\"}}],\"contour\":[{\"type\":\"contour\",\"colorbar\":{\"outlinewidth\":0,\"ticks\":\"\"},\"colorscale\":[[0.0,\"#0d0887\"],[0.1111111111111111,\"#46039f\"],[0.2222222222222222,\"#7201a8\"],[0.3333333333333333,\"#9c179e\"],[0.4444444444444444,\"#bd3786\"],[0.5555555555555556,\"#d8576b\"],[0.6666666666666666,\"#ed7953\"],[0.7777777777777778,\"#fb9f3a\"],[0.8888888888888888,\"#fdca26\"],[1.0,\"#f0f921\"]]}],\"surface\":[{\"type\":\"surface\",\"colorbar\":{\"outlinewidth\":0,\"ticks\":\"\"},\"colorscale\":[[0.0,\"#0d0887\"],[0.1111111111111111,\"#46039f\"],[0.2222222222222222,\"#7201a8\"],[0.3333333333333333,\"#9c179e\"],[0.4444444444444444,\"#bd3786\"],[0.5555555555555556,\"#d8576b\"],[0.6666666666666666,\"#ed7953\"],[0.7777777777777778,\"#fb9f3a\"],[0.8888888888888888,\"#fdca26\"],[1.0,\"#f0f921\"]]}],\"mesh3d\":[{\"type\":\"mesh3d\",\"colorbar\":{\"outlinewidth\":0,\"ticks\":\"\"}}],\"scatter\":[{\"fillpattern\":{\"fillmode\":\"overlay\",\"size\":10,\"solidity\":0.2},\"type\":\"scatter\"}],\"parcoords\":[{\"type\":\"parcoords\",\"line\":{\"colorbar\":{\"outlinewidth\":0,\"ticks\":\"\"}}}],\"scatterpolargl\":[{\"type\":\"scatterpolargl\",\"marker\":{\"colorbar\":{\"outlinewidth\":0,\"ticks\":\"\"}}}],\"bar\":[{\"error_x\":{\"color\":\"#2a3f5f\"},\"error_y\":{\"color\":\"#2a3f5f\"},\"marker\":{\"line\":{\"color\":\"#E5ECF6\",\"width\":0.5},\"pattern\":{\"fillmode\":\"overlay\",\"size\":10,\"solidity\":0.2}},\"type\":\"bar\"}],\"scattergeo\":[{\"type\":\"scattergeo\",\"marker\":{\"colorbar\":{\"outlinewidth\":0,\"ticks\":\"\"}}}],\"scatterpolar\":[{\"type\":\"scatterpolar\",\"marker\":{\"colorbar\":{\"outlinewidth\":0,\"ticks\":\"\"}}}],\"histogram\":[{\"marker\":{\"pattern\":{\"fillmode\":\"overlay\",\"size\":10,\"solidity\":0.2}},\"type\":\"histogram\"}],\"scattergl\":[{\"type\":\"scattergl\",\"marker\":{\"colorbar\":{\"outlinewidth\":0,\"ticks\":\"\"}}}],\"scatter3d\":[{\"type\":\"scatter3d\",\"line\":{\"colorbar\":{\"outlinewidth\":0,\"ticks\":\"\"}},\"marker\":{\"colorbar\":{\"outlinewidth\":0,\"ticks\":\"\"}}}],\"scattermapbox\":[{\"type\":\"scattermapbox\",\"marker\":{\"colorbar\":{\"outlinewidth\":0,\"ticks\":\"\"}}}],\"scatterternary\":[{\"type\":\"scatterternary\",\"marker\":{\"colorbar\":{\"outlinewidth\":0,\"ticks\":\"\"}}}],\"scattercarpet\":[{\"type\":\"scattercarpet\",\"marker\":{\"colorbar\":{\"outlinewidth\":0,\"ticks\":\"\"}}}],\"carpet\":[{\"aaxis\":{\"endlinecolor\":\"#2a3f5f\",\"gridcolor\":\"white\",\"linecolor\":\"white\",\"minorgridcolor\":\"white\",\"startlinecolor\":\"#2a3f5f\"},\"baxis\":{\"endlinecolor\":\"#2a3f5f\",\"gridcolor\":\"white\",\"linecolor\":\"white\",\"minorgridcolor\":\"white\",\"startlinecolor\":\"#2a3f5f\"},\"type\":\"carpet\"}],\"table\":[{\"cells\":{\"fill\":{\"color\":\"#EBF0F8\"},\"line\":{\"color\":\"white\"}},\"header\":{\"fill\":{\"color\":\"#C8D4E3\"},\"line\":{\"color\":\"white\"}},\"type\":\"table\"}],\"barpolar\":[{\"marker\":{\"line\":{\"color\":\"#E5ECF6\",\"width\":0.5},\"pattern\":{\"fillmode\":\"overlay\",\"size\":10,\"solidity\":0.2}},\"type\":\"barpolar\"}],\"pie\":[{\"automargin\":true,\"type\":\"pie\"}]},\"layout\":{\"autotypenumbers\":\"strict\",\"colorway\":[\"#636efa\",\"#EF553B\",\"#00cc96\",\"#ab63fa\",\"#FFA15A\",\"#19d3f3\",\"#FF6692\",\"#B6E880\",\"#FF97FF\",\"#FECB52\"],\"font\":{\"color\":\"#2a3f5f\"},\"hovermode\":\"closest\",\"hoverlabel\":{\"align\":\"left\"},\"paper_bgcolor\":\"white\",\"plot_bgcolor\":\"#E5ECF6\",\"polar\":{\"bgcolor\":\"#E5ECF6\",\"angularaxis\":{\"gridcolor\":\"white\",\"linecolor\":\"white\",\"ticks\":\"\"},\"radialaxis\":{\"gridcolor\":\"white\",\"linecolor\":\"white\",\"ticks\":\"\"}},\"ternary\":{\"bgcolor\":\"#E5ECF6\",\"aaxis\":{\"gridcolor\":\"white\",\"linecolor\":\"white\",\"ticks\":\"\"},\"baxis\":{\"gridcolor\":\"white\",\"linecolor\":\"white\",\"ticks\":\"\"},\"caxis\":{\"gridcolor\":\"white\",\"linecolor\":\"white\",\"ticks\":\"\"}},\"coloraxis\":{\"colorbar\":{\"outlinewidth\":0,\"ticks\":\"\"}},\"colorscale\":{\"sequential\":[[0.0,\"#0d0887\"],[0.1111111111111111,\"#46039f\"],[0.2222222222222222,\"#7201a8\"],[0.3333333333333333,\"#9c179e\"],[0.4444444444444444,\"#bd3786\"],[0.5555555555555556,\"#d8576b\"],[0.6666666666666666,\"#ed7953\"],[0.7777777777777778,\"#fb9f3a\"],[0.8888888888888888,\"#fdca26\"],[1.0,\"#f0f921\"]],\"sequentialminus\":[[0.0,\"#0d0887\"],[0.1111111111111111,\"#46039f\"],[0.2222222222222222,\"#7201a8\"],[0.3333333333333333,\"#9c179e\"],[0.4444444444444444,\"#bd3786\"],[0.5555555555555556,\"#d8576b\"],[0.6666666666666666,\"#ed7953\"],[0.7777777777777778,\"#fb9f3a\"],[0.8888888888888888,\"#fdca26\"],[1.0,\"#f0f921\"]],\"diverging\":[[0,\"#8e0152\"],[0.1,\"#c51b7d\"],[0.2,\"#de77ae\"],[0.3,\"#f1b6da\"],[0.4,\"#fde0ef\"],[0.5,\"#f7f7f7\"],[0.6,\"#e6f5d0\"],[0.7,\"#b8e186\"],[0.8,\"#7fbc41\"],[0.9,\"#4d9221\"],[1,\"#276419\"]]},\"xaxis\":{\"gridcolor\":\"white\",\"linecolor\":\"white\",\"ticks\":\"\",\"title\":{\"standoff\":15},\"zerolinecolor\":\"white\",\"automargin\":true,\"zerolinewidth\":2},\"yaxis\":{\"gridcolor\":\"white\",\"linecolor\":\"white\",\"ticks\":\"\",\"title\":{\"standoff\":15},\"zerolinecolor\":\"white\",\"automargin\":true,\"zerolinewidth\":2},\"scene\":{\"xaxis\":{\"backgroundcolor\":\"#E5ECF6\",\"gridcolor\":\"white\",\"linecolor\":\"white\",\"showbackground\":true,\"ticks\":\"\",\"zerolinecolor\":\"white\",\"gridwidth\":2},\"yaxis\":{\"backgroundcolor\":\"#E5ECF6\",\"gridcolor\":\"white\",\"linecolor\":\"white\",\"showbackground\":true,\"ticks\":\"\",\"zerolinecolor\":\"white\",\"gridwidth\":2},\"zaxis\":{\"backgroundcolor\":\"#E5ECF6\",\"gridcolor\":\"white\",\"linecolor\":\"white\",\"showbackground\":true,\"ticks\":\"\",\"zerolinecolor\":\"white\",\"gridwidth\":2}},\"shapedefaults\":{\"line\":{\"color\":\"#2a3f5f\"}},\"annotationdefaults\":{\"arrowcolor\":\"#2a3f5f\",\"arrowhead\":0,\"arrowwidth\":1},\"geo\":{\"bgcolor\":\"white\",\"landcolor\":\"#E5ECF6\",\"subunitcolor\":\"white\",\"showland\":true,\"showlakes\":true,\"lakecolor\":\"white\"},\"title\":{\"x\":0.05},\"mapbox\":{\"style\":\"light\"}}},\"geo\":{\"domain\":{\"x\":[0.0,1.0],\"y\":[0.0,1.0]},\"center\":{}},\"coloraxis\":{\"colorbar\":{\"title\":{\"text\":\"Quantity\"}},\"colorscale\":[[0.0,\"rgb(103,0,31)\"],[0.1,\"rgb(178,24,43)\"],[0.2,\"rgb(214,96,77)\"],[0.3,\"rgb(244,165,130)\"],[0.4,\"rgb(253,219,199)\"],[0.5,\"rgb(247,247,247)\"],[0.6,\"rgb(209,229,240)\"],[0.7,\"rgb(146,197,222)\"],[0.8,\"rgb(67,147,195)\"],[0.9,\"rgb(33,102,172)\"],[1.0,\"rgb(5,48,97)\"]]},\"legend\":{\"tracegroupgap\":0},\"title\":{\"text\":\"Number of Products Sold by Country\"}},                        {\"responsive\": true}                    ).then(function(){\n",
              "                            \n",
              "var gd = document.getElementById('2ead3ff9-f500-487c-bfca-3b7612db8e1a');\n",
              "var x = new MutationObserver(function (mutations, observer) {{\n",
              "        var display = window.getComputedStyle(gd).display;\n",
              "        if (!display || display === 'none') {{\n",
              "            console.log([gd, 'removed!']);\n",
              "            Plotly.purge(gd);\n",
              "            observer.disconnect();\n",
              "        }}\n",
              "}});\n",
              "\n",
              "// Listen for the removal of the full notebook cells\n",
              "var notebookContainer = gd.closest('#notebook-container');\n",
              "if (notebookContainer) {{\n",
              "    x.observe(notebookContainer, {childList: true});\n",
              "}}\n",
              "\n",
              "// Listen for the clearing of the current output cell\n",
              "var outputEl = gd.closest('.output');\n",
              "if (outputEl) {{\n",
              "    x.observe(outputEl, {childList: true});\n",
              "}}\n",
              "\n",
              "                        })                };                            </script>        </div>\n",
              "</body>\n",
              "</html>"
            ]
          },
          "metadata": {},
          "output_type": "display_data"
        }
      ],
      "source": [
        "import plotly.express as px\n",
        "\n",
        "# Calculate the total number of products sold in each country\n",
        "country_product_counts = df.groupby('Country')['Quantity'].sum().reset_index()\n",
        "\n",
        "# Create the choropleth map\n",
        "fig = px.choropleth(country_product_counts, locations='Country', locationmode='country names', color='Quantity',\n",
        "                    color_continuous_scale='RdBu', title='Number of Products Sold by Country')\n",
        "fig.show()"
      ]
    },
    {
      "cell_type": "markdown",
      "source": [
        "APRIORI ALGORITHM - RECOMMENDATION SYSTEM - DATA MINING"
      ],
      "metadata": {
        "id": "XC2TQQR070cy"
      }
    },
    {
      "cell_type": "code",
      "execution_count": null,
      "metadata": {
        "colab": {
          "base_uri": "https://localhost:8080/"
        },
        "id": "C4AfnTNsYIE_",
        "outputId": "484fca51-426e-4504-aace-69bb0c9823ca"
      },
      "outputs": [
        {
          "output_type": "stream",
          "name": "stdout",
          "text": [
            "Looking in indexes: https://pypi.org/simple, https://us-python.pkg.dev/colab-wheels/public/simple/\n",
            "Requirement already satisfied: mlxtend in /usr/local/lib/python3.9/dist-packages (0.14.0)\n",
            "Requirement already satisfied: pandas>=0.17.1 in /usr/local/lib/python3.9/dist-packages (from mlxtend) (1.5.3)\n",
            "Requirement already satisfied: scikit-learn>=0.18 in /usr/local/lib/python3.9/dist-packages (from mlxtend) (1.2.2)\n",
            "Requirement already satisfied: scipy>=0.17 in /usr/local/lib/python3.9/dist-packages (from mlxtend) (1.10.1)\n",
            "Requirement already satisfied: numpy>=1.10.4 in /usr/local/lib/python3.9/dist-packages (from mlxtend) (1.22.4)\n",
            "Requirement already satisfied: matplotlib>=1.5.1 in /usr/local/lib/python3.9/dist-packages (from mlxtend) (3.7.1)\n",
            "Requirement already satisfied: setuptools in /usr/local/lib/python3.9/dist-packages (from mlxtend) (67.7.2)\n",
            "Requirement already satisfied: kiwisolver>=1.0.1 in /usr/local/lib/python3.9/dist-packages (from matplotlib>=1.5.1->mlxtend) (1.4.4)\n",
            "Requirement already satisfied: pyparsing>=2.3.1 in /usr/local/lib/python3.9/dist-packages (from matplotlib>=1.5.1->mlxtend) (3.0.9)\n",
            "Requirement already satisfied: importlib-resources>=3.2.0 in /usr/local/lib/python3.9/dist-packages (from matplotlib>=1.5.1->mlxtend) (5.12.0)\n",
            "Requirement already satisfied: python-dateutil>=2.7 in /usr/local/lib/python3.9/dist-packages (from matplotlib>=1.5.1->mlxtend) (2.8.2)\n",
            "Requirement already satisfied: cycler>=0.10 in /usr/local/lib/python3.9/dist-packages (from matplotlib>=1.5.1->mlxtend) (0.11.0)\n",
            "Requirement already satisfied: packaging>=20.0 in /usr/local/lib/python3.9/dist-packages (from matplotlib>=1.5.1->mlxtend) (23.1)\n",
            "Requirement already satisfied: fonttools>=4.22.0 in /usr/local/lib/python3.9/dist-packages (from matplotlib>=1.5.1->mlxtend) (4.39.3)\n",
            "Requirement already satisfied: contourpy>=1.0.1 in /usr/local/lib/python3.9/dist-packages (from matplotlib>=1.5.1->mlxtend) (1.0.7)\n",
            "Requirement already satisfied: pillow>=6.2.0 in /usr/local/lib/python3.9/dist-packages (from matplotlib>=1.5.1->mlxtend) (8.4.0)\n",
            "Requirement already satisfied: pytz>=2020.1 in /usr/local/lib/python3.9/dist-packages (from pandas>=0.17.1->mlxtend) (2022.7.1)\n",
            "Requirement already satisfied: threadpoolctl>=2.0.0 in /usr/local/lib/python3.9/dist-packages (from scikit-learn>=0.18->mlxtend) (3.1.0)\n",
            "Requirement already satisfied: joblib>=1.1.1 in /usr/local/lib/python3.9/dist-packages (from scikit-learn>=0.18->mlxtend) (1.2.0)\n",
            "Requirement already satisfied: zipp>=3.1.0 in /usr/local/lib/python3.9/dist-packages (from importlib-resources>=3.2.0->matplotlib>=1.5.1->mlxtend) (3.15.0)\n",
            "Requirement already satisfied: six>=1.5 in /usr/local/lib/python3.9/dist-packages (from python-dateutil>=2.7->matplotlib>=1.5.1->mlxtend) (1.16.0)\n"
          ]
        }
      ],
      "source": [
        "pip install mlxtend\n"
      ]
    },
    {
      "cell_type": "code",
      "source": [
        "import pandas as pd\n",
        "df = pd.read_csv('OnlineRetail.csv', encoding='unicode_escape')\n",
        "df.isnull().any()"
      ],
      "metadata": {
        "colab": {
          "base_uri": "https://localhost:8080/"
        },
        "id": "1LKXR5ry7uqe",
        "outputId": "6266669e-212a-41d2-89e7-7b9929b7cee1"
      },
      "execution_count": null,
      "outputs": [
        {
          "output_type": "execute_result",
          "data": {
            "text/plain": [
              "InvoiceNo      False\n",
              "StockCode      False\n",
              "Description     True\n",
              "Quantity       False\n",
              "InvoiceDate    False\n",
              "UnitPrice      False\n",
              "CustomerID      True\n",
              "Country        False\n",
              "dtype: bool"
            ]
          },
          "metadata": {},
          "execution_count": 4
        }
      ]
    },
    {
      "cell_type": "code",
      "execution_count": null,
      "metadata": {
        "id": "LZ449GnTYng_"
      },
      "outputs": [],
      "source": [
        "df.dropna(inplace=True)"
      ]
    },
    {
      "cell_type": "code",
      "execution_count": null,
      "metadata": {
        "id": "IkQhfM81Zg_m",
        "colab": {
          "base_uri": "https://localhost:8080/"
        },
        "outputId": "59363e2f-6551-4961-b757-c50d779e540a"
      },
      "outputs": [
        {
          "output_type": "stream",
          "name": "stdout",
          "text": [
            "<class 'pandas.core.frame.DataFrame'>\n",
            "Int64Index: 406829 entries, 0 to 541908\n",
            "Data columns (total 8 columns):\n",
            " #   Column       Non-Null Count   Dtype  \n",
            "---  ------       --------------   -----  \n",
            " 0   InvoiceNo    406829 non-null  object \n",
            " 1   StockCode    406829 non-null  object \n",
            " 2   Description  406829 non-null  object \n",
            " 3   Quantity     406829 non-null  int64  \n",
            " 4   InvoiceDate  406829 non-null  object \n",
            " 5   UnitPrice    406829 non-null  float64\n",
            " 6   CustomerID   406829 non-null  float64\n",
            " 7   Country      406829 non-null  object \n",
            "dtypes: float64(2), int64(1), object(5)\n",
            "memory usage: 27.9+ MB\n"
          ]
        }
      ],
      "source": [
        "df.info()"
      ]
    },
    {
      "cell_type": "code",
      "execution_count": null,
      "metadata": {
        "id": "kAaAHuGMiCBV"
      },
      "outputs": [],
      "source": [
        "df.dropna(axis=0, subset=['InvoiceNo'], inplace=True)"
      ]
    },
    {
      "cell_type": "code",
      "source": [
        "basket = (df[df['Country'] ==\"France\"]\n",
        "          .groupby(['InvoiceNo', 'Description'])['Quantity'].sum().unstack().fillna(0)\n",
        "         )\n",
        "basket.head()"
      ],
      "metadata": {
        "colab": {
          "base_uri": "https://localhost:8080/",
          "height": 418
        },
        "id": "z2OVU5yxugqW",
        "outputId": "a98b0f02-5bd3-455e-b725-5e109a5c437c"
      },
      "execution_count": null,
      "outputs": [
        {
          "output_type": "execute_result",
          "data": {
            "text/plain": [
              "Description   50'S CHRISTMAS GIFT BAG LARGE   DOLLY GIRL BEAKER  \\\n",
              "InvoiceNo                                                         \n",
              "536370                                  0.0                 0.0   \n",
              "536852                                  0.0                 0.0   \n",
              "536974                                  0.0                 0.0   \n",
              "537065                                  0.0                 0.0   \n",
              "537463                                  0.0                 0.0   \n",
              "\n",
              "Description   I LOVE LONDON MINI BACKPACK   NINE DRAWER OFFICE TIDY  \\\n",
              "InvoiceNo                                                             \n",
              "536370                                0.0                       0.0   \n",
              "536852                                0.0                       0.0   \n",
              "536974                                0.0                       0.0   \n",
              "537065                                0.0                       0.0   \n",
              "537463                                0.0                       0.0   \n",
              "\n",
              "Description   SET 2 TEA TOWELS I LOVE LONDON    SPACEBOY BABY GIFT SET  \\\n",
              "InvoiceNo                                                                \n",
              "536370                                   24.0                      0.0   \n",
              "536852                                    0.0                      0.0   \n",
              "536974                                    0.0                      0.0   \n",
              "537065                                    0.0                      0.0   \n",
              "537463                                    0.0                      0.0   \n",
              "\n",
              "Description   TRELLIS COAT RACK  10 COLOUR SPACEBOY PEN  \\\n",
              "InvoiceNo                                                 \n",
              "536370                      0.0                     0.0   \n",
              "536852                      0.0                     0.0   \n",
              "536974                      0.0                     0.0   \n",
              "537065                      0.0                     0.0   \n",
              "537463                      0.0                     0.0   \n",
              "\n",
              "Description  12 COLOURED PARTY BALLOONS  12 EGG HOUSE PAINTED WOOD  ...  \\\n",
              "InvoiceNo                                                           ...   \n",
              "536370                              0.0                        0.0  ...   \n",
              "536852                              0.0                        0.0  ...   \n",
              "536974                              0.0                        0.0  ...   \n",
              "537065                              0.0                        0.0  ...   \n",
              "537463                              0.0                        0.0  ...   \n",
              "\n",
              "Description  WRAP SUKI AND FRIENDS  WRAP VINTAGE PETALS  DESIGN  \\\n",
              "InvoiceNo                                                         \n",
              "536370                         0.0                          0.0   \n",
              "536852                         0.0                          0.0   \n",
              "536974                         0.0                          0.0   \n",
              "537065                         0.0                          0.0   \n",
              "537463                         0.0                          0.0   \n",
              "\n",
              "Description  YELLOW COAT RACK PARIS FASHION  YELLOW GIANT GARDEN THERMOMETER  \\\n",
              "InvoiceNo                                                                      \n",
              "536370                                  0.0                              0.0   \n",
              "536852                                  0.0                              0.0   \n",
              "536974                                  0.0                              0.0   \n",
              "537065                                  0.0                              0.0   \n",
              "537463                                  0.0                              0.0   \n",
              "\n",
              "Description  ZINC  STAR T-LIGHT HOLDER   ZINC FOLKART SLEIGH BELLS  \\\n",
              "InvoiceNo                                                            \n",
              "536370                              0.0                        0.0   \n",
              "536852                              0.0                        0.0   \n",
              "536974                              0.0                        0.0   \n",
              "537065                              0.0                        0.0   \n",
              "537463                              0.0                        0.0   \n",
              "\n",
              "Description  ZINC HERB GARDEN CONTAINER  ZINC METAL HEART DECORATION  \\\n",
              "InvoiceNo                                                              \n",
              "536370                              0.0                          0.0   \n",
              "536852                              0.0                          0.0   \n",
              "536974                              0.0                          0.0   \n",
              "537065                              0.0                          0.0   \n",
              "537463                              0.0                          0.0   \n",
              "\n",
              "Description  ZINC T-LIGHT HOLDER STAR LARGE  ZINC T-LIGHT HOLDER STARS SMALL  \n",
              "InvoiceNo                                                                     \n",
              "536370                                  0.0                              0.0  \n",
              "536852                                  0.0                              0.0  \n",
              "536974                                  0.0                              0.0  \n",
              "537065                                  0.0                              0.0  \n",
              "537463                                  0.0                              0.0  \n",
              "\n",
              "[5 rows x 1545 columns]"
            ],
            "text/html": [
              "\n",
              "  <div id=\"df-464f68ac-b666-44bc-a406-373c9426c94c\">\n",
              "    <div class=\"colab-df-container\">\n",
              "      <div>\n",
              "<style scoped>\n",
              "    .dataframe tbody tr th:only-of-type {\n",
              "        vertical-align: middle;\n",
              "    }\n",
              "\n",
              "    .dataframe tbody tr th {\n",
              "        vertical-align: top;\n",
              "    }\n",
              "\n",
              "    .dataframe thead th {\n",
              "        text-align: right;\n",
              "    }\n",
              "</style>\n",
              "<table border=\"1\" class=\"dataframe\">\n",
              "  <thead>\n",
              "    <tr style=\"text-align: right;\">\n",
              "      <th>Description</th>\n",
              "      <th>50'S CHRISTMAS GIFT BAG LARGE</th>\n",
              "      <th>DOLLY GIRL BEAKER</th>\n",
              "      <th>I LOVE LONDON MINI BACKPACK</th>\n",
              "      <th>NINE DRAWER OFFICE TIDY</th>\n",
              "      <th>SET 2 TEA TOWELS I LOVE LONDON</th>\n",
              "      <th>SPACEBOY BABY GIFT SET</th>\n",
              "      <th>TRELLIS COAT RACK</th>\n",
              "      <th>10 COLOUR SPACEBOY PEN</th>\n",
              "      <th>12 COLOURED PARTY BALLOONS</th>\n",
              "      <th>12 EGG HOUSE PAINTED WOOD</th>\n",
              "      <th>...</th>\n",
              "      <th>WRAP SUKI AND FRIENDS</th>\n",
              "      <th>WRAP VINTAGE PETALS  DESIGN</th>\n",
              "      <th>YELLOW COAT RACK PARIS FASHION</th>\n",
              "      <th>YELLOW GIANT GARDEN THERMOMETER</th>\n",
              "      <th>ZINC  STAR T-LIGHT HOLDER</th>\n",
              "      <th>ZINC FOLKART SLEIGH BELLS</th>\n",
              "      <th>ZINC HERB GARDEN CONTAINER</th>\n",
              "      <th>ZINC METAL HEART DECORATION</th>\n",
              "      <th>ZINC T-LIGHT HOLDER STAR LARGE</th>\n",
              "      <th>ZINC T-LIGHT HOLDER STARS SMALL</th>\n",
              "    </tr>\n",
              "    <tr>\n",
              "      <th>InvoiceNo</th>\n",
              "      <th></th>\n",
              "      <th></th>\n",
              "      <th></th>\n",
              "      <th></th>\n",
              "      <th></th>\n",
              "      <th></th>\n",
              "      <th></th>\n",
              "      <th></th>\n",
              "      <th></th>\n",
              "      <th></th>\n",
              "      <th></th>\n",
              "      <th></th>\n",
              "      <th></th>\n",
              "      <th></th>\n",
              "      <th></th>\n",
              "      <th></th>\n",
              "      <th></th>\n",
              "      <th></th>\n",
              "      <th></th>\n",
              "      <th></th>\n",
              "      <th></th>\n",
              "    </tr>\n",
              "  </thead>\n",
              "  <tbody>\n",
              "    <tr>\n",
              "      <th>536370</th>\n",
              "      <td>0.0</td>\n",
              "      <td>0.0</td>\n",
              "      <td>0.0</td>\n",
              "      <td>0.0</td>\n",
              "      <td>24.0</td>\n",
              "      <td>0.0</td>\n",
              "      <td>0.0</td>\n",
              "      <td>0.0</td>\n",
              "      <td>0.0</td>\n",
              "      <td>0.0</td>\n",
              "      <td>...</td>\n",
              "      <td>0.0</td>\n",
              "      <td>0.0</td>\n",
              "      <td>0.0</td>\n",
              "      <td>0.0</td>\n",
              "      <td>0.0</td>\n",
              "      <td>0.0</td>\n",
              "      <td>0.0</td>\n",
              "      <td>0.0</td>\n",
              "      <td>0.0</td>\n",
              "      <td>0.0</td>\n",
              "    </tr>\n",
              "    <tr>\n",
              "      <th>536852</th>\n",
              "      <td>0.0</td>\n",
              "      <td>0.0</td>\n",
              "      <td>0.0</td>\n",
              "      <td>0.0</td>\n",
              "      <td>0.0</td>\n",
              "      <td>0.0</td>\n",
              "      <td>0.0</td>\n",
              "      <td>0.0</td>\n",
              "      <td>0.0</td>\n",
              "      <td>0.0</td>\n",
              "      <td>...</td>\n",
              "      <td>0.0</td>\n",
              "      <td>0.0</td>\n",
              "      <td>0.0</td>\n",
              "      <td>0.0</td>\n",
              "      <td>0.0</td>\n",
              "      <td>0.0</td>\n",
              "      <td>0.0</td>\n",
              "      <td>0.0</td>\n",
              "      <td>0.0</td>\n",
              "      <td>0.0</td>\n",
              "    </tr>\n",
              "    <tr>\n",
              "      <th>536974</th>\n",
              "      <td>0.0</td>\n",
              "      <td>0.0</td>\n",
              "      <td>0.0</td>\n",
              "      <td>0.0</td>\n",
              "      <td>0.0</td>\n",
              "      <td>0.0</td>\n",
              "      <td>0.0</td>\n",
              "      <td>0.0</td>\n",
              "      <td>0.0</td>\n",
              "      <td>0.0</td>\n",
              "      <td>...</td>\n",
              "      <td>0.0</td>\n",
              "      <td>0.0</td>\n",
              "      <td>0.0</td>\n",
              "      <td>0.0</td>\n",
              "      <td>0.0</td>\n",
              "      <td>0.0</td>\n",
              "      <td>0.0</td>\n",
              "      <td>0.0</td>\n",
              "      <td>0.0</td>\n",
              "      <td>0.0</td>\n",
              "    </tr>\n",
              "    <tr>\n",
              "      <th>537065</th>\n",
              "      <td>0.0</td>\n",
              "      <td>0.0</td>\n",
              "      <td>0.0</td>\n",
              "      <td>0.0</td>\n",
              "      <td>0.0</td>\n",
              "      <td>0.0</td>\n",
              "      <td>0.0</td>\n",
              "      <td>0.0</td>\n",
              "      <td>0.0</td>\n",
              "      <td>0.0</td>\n",
              "      <td>...</td>\n",
              "      <td>0.0</td>\n",
              "      <td>0.0</td>\n",
              "      <td>0.0</td>\n",
              "      <td>0.0</td>\n",
              "      <td>0.0</td>\n",
              "      <td>0.0</td>\n",
              "      <td>0.0</td>\n",
              "      <td>0.0</td>\n",
              "      <td>0.0</td>\n",
              "      <td>0.0</td>\n",
              "    </tr>\n",
              "    <tr>\n",
              "      <th>537463</th>\n",
              "      <td>0.0</td>\n",
              "      <td>0.0</td>\n",
              "      <td>0.0</td>\n",
              "      <td>0.0</td>\n",
              "      <td>0.0</td>\n",
              "      <td>0.0</td>\n",
              "      <td>0.0</td>\n",
              "      <td>0.0</td>\n",
              "      <td>0.0</td>\n",
              "      <td>0.0</td>\n",
              "      <td>...</td>\n",
              "      <td>0.0</td>\n",
              "      <td>0.0</td>\n",
              "      <td>0.0</td>\n",
              "      <td>0.0</td>\n",
              "      <td>0.0</td>\n",
              "      <td>0.0</td>\n",
              "      <td>0.0</td>\n",
              "      <td>0.0</td>\n",
              "      <td>0.0</td>\n",
              "      <td>0.0</td>\n",
              "    </tr>\n",
              "  </tbody>\n",
              "</table>\n",
              "<p>5 rows × 1545 columns</p>\n",
              "</div>\n",
              "      <button class=\"colab-df-convert\" onclick=\"convertToInteractive('df-464f68ac-b666-44bc-a406-373c9426c94c')\"\n",
              "              title=\"Convert this dataframe to an interactive table.\"\n",
              "              style=\"display:none;\">\n",
              "        \n",
              "  <svg xmlns=\"http://www.w3.org/2000/svg\" height=\"24px\"viewBox=\"0 0 24 24\"\n",
              "       width=\"24px\">\n",
              "    <path d=\"M0 0h24v24H0V0z\" fill=\"none\"/>\n",
              "    <path d=\"M18.56 5.44l.94 2.06.94-2.06 2.06-.94-2.06-.94-.94-2.06-.94 2.06-2.06.94zm-11 1L8.5 8.5l.94-2.06 2.06-.94-2.06-.94L8.5 2.5l-.94 2.06-2.06.94zm10 10l.94 2.06.94-2.06 2.06-.94-2.06-.94-.94-2.06-.94 2.06-2.06.94z\"/><path d=\"M17.41 7.96l-1.37-1.37c-.4-.4-.92-.59-1.43-.59-.52 0-1.04.2-1.43.59L10.3 9.45l-7.72 7.72c-.78.78-.78 2.05 0 2.83L4 21.41c.39.39.9.59 1.41.59.51 0 1.02-.2 1.41-.59l7.78-7.78 2.81-2.81c.8-.78.8-2.07 0-2.86zM5.41 20L4 18.59l7.72-7.72 1.47 1.35L5.41 20z\"/>\n",
              "  </svg>\n",
              "      </button>\n",
              "      \n",
              "  <style>\n",
              "    .colab-df-container {\n",
              "      display:flex;\n",
              "      flex-wrap:wrap;\n",
              "      gap: 12px;\n",
              "    }\n",
              "\n",
              "    .colab-df-convert {\n",
              "      background-color: #E8F0FE;\n",
              "      border: none;\n",
              "      border-radius: 50%;\n",
              "      cursor: pointer;\n",
              "      display: none;\n",
              "      fill: #1967D2;\n",
              "      height: 32px;\n",
              "      padding: 0 0 0 0;\n",
              "      width: 32px;\n",
              "    }\n",
              "\n",
              "    .colab-df-convert:hover {\n",
              "      background-color: #E2EBFA;\n",
              "      box-shadow: 0px 1px 2px rgba(60, 64, 67, 0.3), 0px 1px 3px 1px rgba(60, 64, 67, 0.15);\n",
              "      fill: #174EA6;\n",
              "    }\n",
              "\n",
              "    [theme=dark] .colab-df-convert {\n",
              "      background-color: #3B4455;\n",
              "      fill: #D2E3FC;\n",
              "    }\n",
              "\n",
              "    [theme=dark] .colab-df-convert:hover {\n",
              "      background-color: #434B5C;\n",
              "      box-shadow: 0px 1px 3px 1px rgba(0, 0, 0, 0.15);\n",
              "      filter: drop-shadow(0px 1px 2px rgba(0, 0, 0, 0.3));\n",
              "      fill: #FFFFFF;\n",
              "    }\n",
              "  </style>\n",
              "\n",
              "      <script>\n",
              "        const buttonEl =\n",
              "          document.querySelector('#df-464f68ac-b666-44bc-a406-373c9426c94c button.colab-df-convert');\n",
              "        buttonEl.style.display =\n",
              "          google.colab.kernel.accessAllowed ? 'block' : 'none';\n",
              "\n",
              "        async function convertToInteractive(key) {\n",
              "          const element = document.querySelector('#df-464f68ac-b666-44bc-a406-373c9426c94c');\n",
              "          const dataTable =\n",
              "            await google.colab.kernel.invokeFunction('convertToInteractive',\n",
              "                                                     [key], {});\n",
              "          if (!dataTable) return;\n",
              "\n",
              "          const docLinkHtml = 'Like what you see? Visit the ' +\n",
              "            '<a target=\"_blank\" href=https://colab.research.google.com/notebooks/data_table.ipynb>data table notebook</a>'\n",
              "            + ' to learn more about interactive tables.';\n",
              "          element.innerHTML = '';\n",
              "          dataTable['output_type'] = 'display_data';\n",
              "          await google.colab.output.renderOutput(dataTable, element);\n",
              "          const docLink = document.createElement('div');\n",
              "          docLink.innerHTML = docLinkHtml;\n",
              "          element.appendChild(docLink);\n",
              "        }\n",
              "      </script>\n",
              "    </div>\n",
              "  </div>\n",
              "  "
            ]
          },
          "metadata": {},
          "execution_count": 11
        }
      ]
    },
    {
      "cell_type": "code",
      "source": [
        "def encode_units(x):\n",
        "    if x <= 0:\n",
        "        return 0\n",
        "    if x >= 1:\n",
        "        return 1\n",
        "\n",
        "basket_sets = basket.applymap(encode_units)\n",
        "basket_sets.head()"
      ],
      "metadata": {
        "id": "0HZ9Rm9Mul-2",
        "colab": {
          "base_uri": "https://localhost:8080/",
          "height": 418
        },
        "outputId": "4c3466e1-7073-46d6-eeaa-df7d092185a3"
      },
      "execution_count": null,
      "outputs": [
        {
          "output_type": "execute_result",
          "data": {
            "text/plain": [
              "Description   50'S CHRISTMAS GIFT BAG LARGE   DOLLY GIRL BEAKER  \\\n",
              "InvoiceNo                                                         \n",
              "536370                                    0                   0   \n",
              "536852                                    0                   0   \n",
              "536974                                    0                   0   \n",
              "537065                                    0                   0   \n",
              "537463                                    0                   0   \n",
              "\n",
              "Description   I LOVE LONDON MINI BACKPACK   NINE DRAWER OFFICE TIDY  \\\n",
              "InvoiceNo                                                             \n",
              "536370                                  0                         0   \n",
              "536852                                  0                         0   \n",
              "536974                                  0                         0   \n",
              "537065                                  0                         0   \n",
              "537463                                  0                         0   \n",
              "\n",
              "Description   SET 2 TEA TOWELS I LOVE LONDON    SPACEBOY BABY GIFT SET  \\\n",
              "InvoiceNo                                                                \n",
              "536370                                      1                        0   \n",
              "536852                                      0                        0   \n",
              "536974                                      0                        0   \n",
              "537065                                      0                        0   \n",
              "537463                                      0                        0   \n",
              "\n",
              "Description   TRELLIS COAT RACK  10 COLOUR SPACEBOY PEN  \\\n",
              "InvoiceNo                                                 \n",
              "536370                        0                       0   \n",
              "536852                        0                       0   \n",
              "536974                        0                       0   \n",
              "537065                        0                       0   \n",
              "537463                        0                       0   \n",
              "\n",
              "Description  12 COLOURED PARTY BALLOONS  12 EGG HOUSE PAINTED WOOD  ...  \\\n",
              "InvoiceNo                                                           ...   \n",
              "536370                                0                          0  ...   \n",
              "536852                                0                          0  ...   \n",
              "536974                                0                          0  ...   \n",
              "537065                                0                          0  ...   \n",
              "537463                                0                          0  ...   \n",
              "\n",
              "Description  WRAP SUKI AND FRIENDS  WRAP VINTAGE PETALS  DESIGN  \\\n",
              "InvoiceNo                                                         \n",
              "536370                           0                            0   \n",
              "536852                           0                            0   \n",
              "536974                           0                            0   \n",
              "537065                           0                            0   \n",
              "537463                           0                            0   \n",
              "\n",
              "Description  YELLOW COAT RACK PARIS FASHION  YELLOW GIANT GARDEN THERMOMETER  \\\n",
              "InvoiceNo                                                                      \n",
              "536370                                    0                                0   \n",
              "536852                                    0                                0   \n",
              "536974                                    0                                0   \n",
              "537065                                    0                                0   \n",
              "537463                                    0                                0   \n",
              "\n",
              "Description  ZINC  STAR T-LIGHT HOLDER   ZINC FOLKART SLEIGH BELLS  \\\n",
              "InvoiceNo                                                            \n",
              "536370                                0                          0   \n",
              "536852                                0                          0   \n",
              "536974                                0                          0   \n",
              "537065                                0                          0   \n",
              "537463                                0                          0   \n",
              "\n",
              "Description  ZINC HERB GARDEN CONTAINER  ZINC METAL HEART DECORATION  \\\n",
              "InvoiceNo                                                              \n",
              "536370                                0                            0   \n",
              "536852                                0                            0   \n",
              "536974                                0                            0   \n",
              "537065                                0                            0   \n",
              "537463                                0                            0   \n",
              "\n",
              "Description  ZINC T-LIGHT HOLDER STAR LARGE  ZINC T-LIGHT HOLDER STARS SMALL  \n",
              "InvoiceNo                                                                     \n",
              "536370                                    0                                0  \n",
              "536852                                    0                                0  \n",
              "536974                                    0                                0  \n",
              "537065                                    0                                0  \n",
              "537463                                    0                                0  \n",
              "\n",
              "[5 rows x 1545 columns]"
            ],
            "text/html": [
              "\n",
              "  <div id=\"df-4ffdee9f-b04d-4631-a92d-f2680e5b6dbe\">\n",
              "    <div class=\"colab-df-container\">\n",
              "      <div>\n",
              "<style scoped>\n",
              "    .dataframe tbody tr th:only-of-type {\n",
              "        vertical-align: middle;\n",
              "    }\n",
              "\n",
              "    .dataframe tbody tr th {\n",
              "        vertical-align: top;\n",
              "    }\n",
              "\n",
              "    .dataframe thead th {\n",
              "        text-align: right;\n",
              "    }\n",
              "</style>\n",
              "<table border=\"1\" class=\"dataframe\">\n",
              "  <thead>\n",
              "    <tr style=\"text-align: right;\">\n",
              "      <th>Description</th>\n",
              "      <th>50'S CHRISTMAS GIFT BAG LARGE</th>\n",
              "      <th>DOLLY GIRL BEAKER</th>\n",
              "      <th>I LOVE LONDON MINI BACKPACK</th>\n",
              "      <th>NINE DRAWER OFFICE TIDY</th>\n",
              "      <th>SET 2 TEA TOWELS I LOVE LONDON</th>\n",
              "      <th>SPACEBOY BABY GIFT SET</th>\n",
              "      <th>TRELLIS COAT RACK</th>\n",
              "      <th>10 COLOUR SPACEBOY PEN</th>\n",
              "      <th>12 COLOURED PARTY BALLOONS</th>\n",
              "      <th>12 EGG HOUSE PAINTED WOOD</th>\n",
              "      <th>...</th>\n",
              "      <th>WRAP SUKI AND FRIENDS</th>\n",
              "      <th>WRAP VINTAGE PETALS  DESIGN</th>\n",
              "      <th>YELLOW COAT RACK PARIS FASHION</th>\n",
              "      <th>YELLOW GIANT GARDEN THERMOMETER</th>\n",
              "      <th>ZINC  STAR T-LIGHT HOLDER</th>\n",
              "      <th>ZINC FOLKART SLEIGH BELLS</th>\n",
              "      <th>ZINC HERB GARDEN CONTAINER</th>\n",
              "      <th>ZINC METAL HEART DECORATION</th>\n",
              "      <th>ZINC T-LIGHT HOLDER STAR LARGE</th>\n",
              "      <th>ZINC T-LIGHT HOLDER STARS SMALL</th>\n",
              "    </tr>\n",
              "    <tr>\n",
              "      <th>InvoiceNo</th>\n",
              "      <th></th>\n",
              "      <th></th>\n",
              "      <th></th>\n",
              "      <th></th>\n",
              "      <th></th>\n",
              "      <th></th>\n",
              "      <th></th>\n",
              "      <th></th>\n",
              "      <th></th>\n",
              "      <th></th>\n",
              "      <th></th>\n",
              "      <th></th>\n",
              "      <th></th>\n",
              "      <th></th>\n",
              "      <th></th>\n",
              "      <th></th>\n",
              "      <th></th>\n",
              "      <th></th>\n",
              "      <th></th>\n",
              "      <th></th>\n",
              "      <th></th>\n",
              "    </tr>\n",
              "  </thead>\n",
              "  <tbody>\n",
              "    <tr>\n",
              "      <th>536370</th>\n",
              "      <td>0</td>\n",
              "      <td>0</td>\n",
              "      <td>0</td>\n",
              "      <td>0</td>\n",
              "      <td>1</td>\n",
              "      <td>0</td>\n",
              "      <td>0</td>\n",
              "      <td>0</td>\n",
              "      <td>0</td>\n",
              "      <td>0</td>\n",
              "      <td>...</td>\n",
              "      <td>0</td>\n",
              "      <td>0</td>\n",
              "      <td>0</td>\n",
              "      <td>0</td>\n",
              "      <td>0</td>\n",
              "      <td>0</td>\n",
              "      <td>0</td>\n",
              "      <td>0</td>\n",
              "      <td>0</td>\n",
              "      <td>0</td>\n",
              "    </tr>\n",
              "    <tr>\n",
              "      <th>536852</th>\n",
              "      <td>0</td>\n",
              "      <td>0</td>\n",
              "      <td>0</td>\n",
              "      <td>0</td>\n",
              "      <td>0</td>\n",
              "      <td>0</td>\n",
              "      <td>0</td>\n",
              "      <td>0</td>\n",
              "      <td>0</td>\n",
              "      <td>0</td>\n",
              "      <td>...</td>\n",
              "      <td>0</td>\n",
              "      <td>0</td>\n",
              "      <td>0</td>\n",
              "      <td>0</td>\n",
              "      <td>0</td>\n",
              "      <td>0</td>\n",
              "      <td>0</td>\n",
              "      <td>0</td>\n",
              "      <td>0</td>\n",
              "      <td>0</td>\n",
              "    </tr>\n",
              "    <tr>\n",
              "      <th>536974</th>\n",
              "      <td>0</td>\n",
              "      <td>0</td>\n",
              "      <td>0</td>\n",
              "      <td>0</td>\n",
              "      <td>0</td>\n",
              "      <td>0</td>\n",
              "      <td>0</td>\n",
              "      <td>0</td>\n",
              "      <td>0</td>\n",
              "      <td>0</td>\n",
              "      <td>...</td>\n",
              "      <td>0</td>\n",
              "      <td>0</td>\n",
              "      <td>0</td>\n",
              "      <td>0</td>\n",
              "      <td>0</td>\n",
              "      <td>0</td>\n",
              "      <td>0</td>\n",
              "      <td>0</td>\n",
              "      <td>0</td>\n",
              "      <td>0</td>\n",
              "    </tr>\n",
              "    <tr>\n",
              "      <th>537065</th>\n",
              "      <td>0</td>\n",
              "      <td>0</td>\n",
              "      <td>0</td>\n",
              "      <td>0</td>\n",
              "      <td>0</td>\n",
              "      <td>0</td>\n",
              "      <td>0</td>\n",
              "      <td>0</td>\n",
              "      <td>0</td>\n",
              "      <td>0</td>\n",
              "      <td>...</td>\n",
              "      <td>0</td>\n",
              "      <td>0</td>\n",
              "      <td>0</td>\n",
              "      <td>0</td>\n",
              "      <td>0</td>\n",
              "      <td>0</td>\n",
              "      <td>0</td>\n",
              "      <td>0</td>\n",
              "      <td>0</td>\n",
              "      <td>0</td>\n",
              "    </tr>\n",
              "    <tr>\n",
              "      <th>537463</th>\n",
              "      <td>0</td>\n",
              "      <td>0</td>\n",
              "      <td>0</td>\n",
              "      <td>0</td>\n",
              "      <td>0</td>\n",
              "      <td>0</td>\n",
              "      <td>0</td>\n",
              "      <td>0</td>\n",
              "      <td>0</td>\n",
              "      <td>0</td>\n",
              "      <td>...</td>\n",
              "      <td>0</td>\n",
              "      <td>0</td>\n",
              "      <td>0</td>\n",
              "      <td>0</td>\n",
              "      <td>0</td>\n",
              "      <td>0</td>\n",
              "      <td>0</td>\n",
              "      <td>0</td>\n",
              "      <td>0</td>\n",
              "      <td>0</td>\n",
              "    </tr>\n",
              "  </tbody>\n",
              "</table>\n",
              "<p>5 rows × 1545 columns</p>\n",
              "</div>\n",
              "      <button class=\"colab-df-convert\" onclick=\"convertToInteractive('df-4ffdee9f-b04d-4631-a92d-f2680e5b6dbe')\"\n",
              "              title=\"Convert this dataframe to an interactive table.\"\n",
              "              style=\"display:none;\">\n",
              "        \n",
              "  <svg xmlns=\"http://www.w3.org/2000/svg\" height=\"24px\"viewBox=\"0 0 24 24\"\n",
              "       width=\"24px\">\n",
              "    <path d=\"M0 0h24v24H0V0z\" fill=\"none\"/>\n",
              "    <path d=\"M18.56 5.44l.94 2.06.94-2.06 2.06-.94-2.06-.94-.94-2.06-.94 2.06-2.06.94zm-11 1L8.5 8.5l.94-2.06 2.06-.94-2.06-.94L8.5 2.5l-.94 2.06-2.06.94zm10 10l.94 2.06.94-2.06 2.06-.94-2.06-.94-.94-2.06-.94 2.06-2.06.94z\"/><path d=\"M17.41 7.96l-1.37-1.37c-.4-.4-.92-.59-1.43-.59-.52 0-1.04.2-1.43.59L10.3 9.45l-7.72 7.72c-.78.78-.78 2.05 0 2.83L4 21.41c.39.39.9.59 1.41.59.51 0 1.02-.2 1.41-.59l7.78-7.78 2.81-2.81c.8-.78.8-2.07 0-2.86zM5.41 20L4 18.59l7.72-7.72 1.47 1.35L5.41 20z\"/>\n",
              "  </svg>\n",
              "      </button>\n",
              "      \n",
              "  <style>\n",
              "    .colab-df-container {\n",
              "      display:flex;\n",
              "      flex-wrap:wrap;\n",
              "      gap: 12px;\n",
              "    }\n",
              "\n",
              "    .colab-df-convert {\n",
              "      background-color: #E8F0FE;\n",
              "      border: none;\n",
              "      border-radius: 50%;\n",
              "      cursor: pointer;\n",
              "      display: none;\n",
              "      fill: #1967D2;\n",
              "      height: 32px;\n",
              "      padding: 0 0 0 0;\n",
              "      width: 32px;\n",
              "    }\n",
              "\n",
              "    .colab-df-convert:hover {\n",
              "      background-color: #E2EBFA;\n",
              "      box-shadow: 0px 1px 2px rgba(60, 64, 67, 0.3), 0px 1px 3px 1px rgba(60, 64, 67, 0.15);\n",
              "      fill: #174EA6;\n",
              "    }\n",
              "\n",
              "    [theme=dark] .colab-df-convert {\n",
              "      background-color: #3B4455;\n",
              "      fill: #D2E3FC;\n",
              "    }\n",
              "\n",
              "    [theme=dark] .colab-df-convert:hover {\n",
              "      background-color: #434B5C;\n",
              "      box-shadow: 0px 1px 3px 1px rgba(0, 0, 0, 0.15);\n",
              "      filter: drop-shadow(0px 1px 2px rgba(0, 0, 0, 0.3));\n",
              "      fill: #FFFFFF;\n",
              "    }\n",
              "  </style>\n",
              "\n",
              "      <script>\n",
              "        const buttonEl =\n",
              "          document.querySelector('#df-4ffdee9f-b04d-4631-a92d-f2680e5b6dbe button.colab-df-convert');\n",
              "        buttonEl.style.display =\n",
              "          google.colab.kernel.accessAllowed ? 'block' : 'none';\n",
              "\n",
              "        async function convertToInteractive(key) {\n",
              "          const element = document.querySelector('#df-4ffdee9f-b04d-4631-a92d-f2680e5b6dbe');\n",
              "          const dataTable =\n",
              "            await google.colab.kernel.invokeFunction('convertToInteractive',\n",
              "                                                     [key], {});\n",
              "          if (!dataTable) return;\n",
              "\n",
              "          const docLinkHtml = 'Like what you see? Visit the ' +\n",
              "            '<a target=\"_blank\" href=https://colab.research.google.com/notebooks/data_table.ipynb>data table notebook</a>'\n",
              "            + ' to learn more about interactive tables.';\n",
              "          element.innerHTML = '';\n",
              "          dataTable['output_type'] = 'display_data';\n",
              "          await google.colab.output.renderOutput(dataTable, element);\n",
              "          const docLink = document.createElement('div');\n",
              "          docLink.innerHTML = docLinkHtml;\n",
              "          element.appendChild(docLink);\n",
              "        }\n",
              "      </script>\n",
              "    </div>\n",
              "  </div>\n",
              "  "
            ]
          },
          "metadata": {},
          "execution_count": 12
        }
      ]
    },
    {
      "cell_type": "code",
      "source": [
        "from mlxtend.frequent_patterns import apriori\n",
        "frequent_itemsets = apriori(basket_sets, min_support=0.050, use_colnames=True)"
      ],
      "metadata": {
        "id": "qZqr9hWd-HWv"
      },
      "execution_count": null,
      "outputs": []
    },
    {
      "cell_type": "code",
      "source": [
        "from mlxtend.frequent_patterns import association_rules\n",
        "rules = association_rules(frequent_itemsets, metric=\"lift\", min_threshold=1)\n",
        "rules.head()"
      ],
      "metadata": {
        "colab": {
          "base_uri": "https://localhost:8080/",
          "height": 354
        },
        "id": "T6LhFIVI-uR5",
        "outputId": "c3a52ea2-4c23-4793-e88b-a77004245809"
      },
      "execution_count": null,
      "outputs": [
        {
          "output_type": "execute_result",
          "data": {
            "text/plain": [
              "                    antecedents                   consequents  \\\n",
              "0   (ALARM CLOCK BAKELIKE PINK)  (ALARM CLOCK BAKELIKE GREEN)   \n",
              "1  (ALARM CLOCK BAKELIKE GREEN)   (ALARM CLOCK BAKELIKE PINK)   \n",
              "2   (ALARM CLOCK BAKELIKE RED )  (ALARM CLOCK BAKELIKE GREEN)   \n",
              "3  (ALARM CLOCK BAKELIKE GREEN)   (ALARM CLOCK BAKELIKE RED )   \n",
              "4                     (POSTAGE)  (ALARM CLOCK BAKELIKE GREEN)   \n",
              "\n",
              "   antecedent support  consequent support   support  confidence       lift  \\\n",
              "0            0.087336            0.082969  0.063319    0.725000   8.738158   \n",
              "1            0.082969            0.087336  0.063319    0.763158   8.738158   \n",
              "2            0.080786            0.082969  0.067686    0.837838  10.098151   \n",
              "3            0.082969            0.080786  0.067686    0.815789  10.098151   \n",
              "4            0.655022            0.082969  0.072052    0.110000   1.325789   \n",
              "\n",
              "   leverage  conviction  \n",
              "0  0.056073    3.334657  \n",
              "1  0.056073    3.853469  \n",
              "2  0.060983    5.655022  \n",
              "3  0.060983    4.990019  \n",
              "4  0.017706    1.030371  "
            ],
            "text/html": [
              "\n",
              "  <div id=\"df-2cd46c1c-9ddc-4452-af6e-151763227095\">\n",
              "    <div class=\"colab-df-container\">\n",
              "      <div>\n",
              "<style scoped>\n",
              "    .dataframe tbody tr th:only-of-type {\n",
              "        vertical-align: middle;\n",
              "    }\n",
              "\n",
              "    .dataframe tbody tr th {\n",
              "        vertical-align: top;\n",
              "    }\n",
              "\n",
              "    .dataframe thead th {\n",
              "        text-align: right;\n",
              "    }\n",
              "</style>\n",
              "<table border=\"1\" class=\"dataframe\">\n",
              "  <thead>\n",
              "    <tr style=\"text-align: right;\">\n",
              "      <th></th>\n",
              "      <th>antecedents</th>\n",
              "      <th>consequents</th>\n",
              "      <th>antecedent support</th>\n",
              "      <th>consequent support</th>\n",
              "      <th>support</th>\n",
              "      <th>confidence</th>\n",
              "      <th>lift</th>\n",
              "      <th>leverage</th>\n",
              "      <th>conviction</th>\n",
              "    </tr>\n",
              "  </thead>\n",
              "  <tbody>\n",
              "    <tr>\n",
              "      <th>0</th>\n",
              "      <td>(ALARM CLOCK BAKELIKE PINK)</td>\n",
              "      <td>(ALARM CLOCK BAKELIKE GREEN)</td>\n",
              "      <td>0.087336</td>\n",
              "      <td>0.082969</td>\n",
              "      <td>0.063319</td>\n",
              "      <td>0.725000</td>\n",
              "      <td>8.738158</td>\n",
              "      <td>0.056073</td>\n",
              "      <td>3.334657</td>\n",
              "    </tr>\n",
              "    <tr>\n",
              "      <th>1</th>\n",
              "      <td>(ALARM CLOCK BAKELIKE GREEN)</td>\n",
              "      <td>(ALARM CLOCK BAKELIKE PINK)</td>\n",
              "      <td>0.082969</td>\n",
              "      <td>0.087336</td>\n",
              "      <td>0.063319</td>\n",
              "      <td>0.763158</td>\n",
              "      <td>8.738158</td>\n",
              "      <td>0.056073</td>\n",
              "      <td>3.853469</td>\n",
              "    </tr>\n",
              "    <tr>\n",
              "      <th>2</th>\n",
              "      <td>(ALARM CLOCK BAKELIKE RED )</td>\n",
              "      <td>(ALARM CLOCK BAKELIKE GREEN)</td>\n",
              "      <td>0.080786</td>\n",
              "      <td>0.082969</td>\n",
              "      <td>0.067686</td>\n",
              "      <td>0.837838</td>\n",
              "      <td>10.098151</td>\n",
              "      <td>0.060983</td>\n",
              "      <td>5.655022</td>\n",
              "    </tr>\n",
              "    <tr>\n",
              "      <th>3</th>\n",
              "      <td>(ALARM CLOCK BAKELIKE GREEN)</td>\n",
              "      <td>(ALARM CLOCK BAKELIKE RED )</td>\n",
              "      <td>0.082969</td>\n",
              "      <td>0.080786</td>\n",
              "      <td>0.067686</td>\n",
              "      <td>0.815789</td>\n",
              "      <td>10.098151</td>\n",
              "      <td>0.060983</td>\n",
              "      <td>4.990019</td>\n",
              "    </tr>\n",
              "    <tr>\n",
              "      <th>4</th>\n",
              "      <td>(POSTAGE)</td>\n",
              "      <td>(ALARM CLOCK BAKELIKE GREEN)</td>\n",
              "      <td>0.655022</td>\n",
              "      <td>0.082969</td>\n",
              "      <td>0.072052</td>\n",
              "      <td>0.110000</td>\n",
              "      <td>1.325789</td>\n",
              "      <td>0.017706</td>\n",
              "      <td>1.030371</td>\n",
              "    </tr>\n",
              "  </tbody>\n",
              "</table>\n",
              "</div>\n",
              "      <button class=\"colab-df-convert\" onclick=\"convertToInteractive('df-2cd46c1c-9ddc-4452-af6e-151763227095')\"\n",
              "              title=\"Convert this dataframe to an interactive table.\"\n",
              "              style=\"display:none;\">\n",
              "        \n",
              "  <svg xmlns=\"http://www.w3.org/2000/svg\" height=\"24px\"viewBox=\"0 0 24 24\"\n",
              "       width=\"24px\">\n",
              "    <path d=\"M0 0h24v24H0V0z\" fill=\"none\"/>\n",
              "    <path d=\"M18.56 5.44l.94 2.06.94-2.06 2.06-.94-2.06-.94-.94-2.06-.94 2.06-2.06.94zm-11 1L8.5 8.5l.94-2.06 2.06-.94-2.06-.94L8.5 2.5l-.94 2.06-2.06.94zm10 10l.94 2.06.94-2.06 2.06-.94-2.06-.94-.94-2.06-.94 2.06-2.06.94z\"/><path d=\"M17.41 7.96l-1.37-1.37c-.4-.4-.92-.59-1.43-.59-.52 0-1.04.2-1.43.59L10.3 9.45l-7.72 7.72c-.78.78-.78 2.05 0 2.83L4 21.41c.39.39.9.59 1.41.59.51 0 1.02-.2 1.41-.59l7.78-7.78 2.81-2.81c.8-.78.8-2.07 0-2.86zM5.41 20L4 18.59l7.72-7.72 1.47 1.35L5.41 20z\"/>\n",
              "  </svg>\n",
              "      </button>\n",
              "      \n",
              "  <style>\n",
              "    .colab-df-container {\n",
              "      display:flex;\n",
              "      flex-wrap:wrap;\n",
              "      gap: 12px;\n",
              "    }\n",
              "\n",
              "    .colab-df-convert {\n",
              "      background-color: #E8F0FE;\n",
              "      border: none;\n",
              "      border-radius: 50%;\n",
              "      cursor: pointer;\n",
              "      display: none;\n",
              "      fill: #1967D2;\n",
              "      height: 32px;\n",
              "      padding: 0 0 0 0;\n",
              "      width: 32px;\n",
              "    }\n",
              "\n",
              "    .colab-df-convert:hover {\n",
              "      background-color: #E2EBFA;\n",
              "      box-shadow: 0px 1px 2px rgba(60, 64, 67, 0.3), 0px 1px 3px 1px rgba(60, 64, 67, 0.15);\n",
              "      fill: #174EA6;\n",
              "    }\n",
              "\n",
              "    [theme=dark] .colab-df-convert {\n",
              "      background-color: #3B4455;\n",
              "      fill: #D2E3FC;\n",
              "    }\n",
              "\n",
              "    [theme=dark] .colab-df-convert:hover {\n",
              "      background-color: #434B5C;\n",
              "      box-shadow: 0px 1px 3px 1px rgba(0, 0, 0, 0.15);\n",
              "      filter: drop-shadow(0px 1px 2px rgba(0, 0, 0, 0.3));\n",
              "      fill: #FFFFFF;\n",
              "    }\n",
              "  </style>\n",
              "\n",
              "      <script>\n",
              "        const buttonEl =\n",
              "          document.querySelector('#df-2cd46c1c-9ddc-4452-af6e-151763227095 button.colab-df-convert');\n",
              "        buttonEl.style.display =\n",
              "          google.colab.kernel.accessAllowed ? 'block' : 'none';\n",
              "\n",
              "        async function convertToInteractive(key) {\n",
              "          const element = document.querySelector('#df-2cd46c1c-9ddc-4452-af6e-151763227095');\n",
              "          const dataTable =\n",
              "            await google.colab.kernel.invokeFunction('convertToInteractive',\n",
              "                                                     [key], {});\n",
              "          if (!dataTable) return;\n",
              "\n",
              "          const docLinkHtml = 'Like what you see? Visit the ' +\n",
              "            '<a target=\"_blank\" href=https://colab.research.google.com/notebooks/data_table.ipynb>data table notebook</a>'\n",
              "            + ' to learn more about interactive tables.';\n",
              "          element.innerHTML = '';\n",
              "          dataTable['output_type'] = 'display_data';\n",
              "          await google.colab.output.renderOutput(dataTable, element);\n",
              "          const docLink = document.createElement('div');\n",
              "          docLink.innerHTML = docLinkHtml;\n",
              "          element.appendChild(docLink);\n",
              "        }\n",
              "      </script>\n",
              "    </div>\n",
              "  </div>\n",
              "  "
            ]
          },
          "metadata": {},
          "execution_count": 18
        }
      ]
    },
    {
      "cell_type": "code",
      "source": [
        "rules[(rules['lift'] >= 2) &\n",
        "       (rules['confidence'] >= 0.5) ]"
      ],
      "metadata": {
        "colab": {
          "base_uri": "https://localhost:8080/",
          "height": 659
        },
        "id": "15QZDYLL-_s-",
        "outputId": "00d24bfd-e76f-4007-acf2-aaf20d2cd994"
      },
      "execution_count": null,
      "outputs": [
        {
          "output_type": "execute_result",
          "data": {
            "text/plain": [
              "                                           antecedents  \\\n",
              "0                          (ALARM CLOCK BAKELIKE PINK)   \n",
              "1                         (ALARM CLOCK BAKELIKE GREEN)   \n",
              "2                          (ALARM CLOCK BAKELIKE RED )   \n",
              "3                         (ALARM CLOCK BAKELIKE GREEN)   \n",
              "6                          (ALARM CLOCK BAKELIKE PINK)   \n",
              "..                                                 ...   \n",
              "222     (SET/20 RED RETROSPOT PAPER NAPKINS , POSTAGE)   \n",
              "223  (SET/20 RED RETROSPOT PAPER NAPKINS , SET/6 RE...   \n",
              "224                    (SET/6 RED SPOTTY PAPER PLATES)   \n",
              "226                      (SET/6 RED SPOTTY PAPER CUPS)   \n",
              "227              (SET/20 RED RETROSPOT PAPER NAPKINS )   \n",
              "\n",
              "                                           consequents  antecedent support  \\\n",
              "0                         (ALARM CLOCK BAKELIKE GREEN)            0.087336   \n",
              "1                          (ALARM CLOCK BAKELIKE PINK)            0.082969   \n",
              "2                         (ALARM CLOCK BAKELIKE GREEN)            0.080786   \n",
              "3                          (ALARM CLOCK BAKELIKE RED )            0.082969   \n",
              "6                          (ALARM CLOCK BAKELIKE RED )            0.087336   \n",
              "..                                                 ...                 ...   \n",
              "222  (SET/6 RED SPOTTY PAPER PLATES, SET/6 RED SPOT...            0.093886   \n",
              "223           (SET/6 RED SPOTTY PAPER PLATES, POSTAGE)            0.087336   \n",
              "224  (SET/20 RED RETROSPOT PAPER NAPKINS , POSTAGE,...            0.109170   \n",
              "226  (SET/6 RED SPOTTY PAPER PLATES, POSTAGE, SET/2...            0.117904   \n",
              "227  (SET/6 RED SPOTTY PAPER PLATES, POSTAGE, SET/6...            0.113537   \n",
              "\n",
              "     consequent support   support  confidence       lift  leverage  conviction  \n",
              "0              0.082969  0.063319    0.725000   8.738158  0.056073    3.334657  \n",
              "1              0.087336  0.063319    0.763158   8.738158  0.056073    3.853469  \n",
              "2              0.082969  0.067686    0.837838  10.098151  0.060983    5.655022  \n",
              "3              0.080786  0.067686    0.815789  10.098151  0.060983    4.990019  \n",
              "6              0.080786  0.063319    0.725000   8.974324  0.056263    3.342596  \n",
              "..                  ...       ...         ...        ...       ...         ...  \n",
              "222            0.104803  0.069869    0.744186   7.100775  0.060029    3.499405  \n",
              "223            0.091703  0.069869    0.800000   8.723810  0.061860    4.541485  \n",
              "224            0.072052  0.069869    0.640000   8.882424  0.062003    2.577632  \n",
              "226            0.072052  0.069869    0.592593   8.224467  0.061374    2.277690  \n",
              "227            0.087336  0.069869    0.615385   7.046154  0.059953    2.372926  \n",
              "\n",
              "[98 rows x 9 columns]"
            ],
            "text/html": [
              "\n",
              "  <div id=\"df-27277941-6716-4997-adc1-70edb31e6417\">\n",
              "    <div class=\"colab-df-container\">\n",
              "      <div>\n",
              "<style scoped>\n",
              "    .dataframe tbody tr th:only-of-type {\n",
              "        vertical-align: middle;\n",
              "    }\n",
              "\n",
              "    .dataframe tbody tr th {\n",
              "        vertical-align: top;\n",
              "    }\n",
              "\n",
              "    .dataframe thead th {\n",
              "        text-align: right;\n",
              "    }\n",
              "</style>\n",
              "<table border=\"1\" class=\"dataframe\">\n",
              "  <thead>\n",
              "    <tr style=\"text-align: right;\">\n",
              "      <th></th>\n",
              "      <th>antecedents</th>\n",
              "      <th>consequents</th>\n",
              "      <th>antecedent support</th>\n",
              "      <th>consequent support</th>\n",
              "      <th>support</th>\n",
              "      <th>confidence</th>\n",
              "      <th>lift</th>\n",
              "      <th>leverage</th>\n",
              "      <th>conviction</th>\n",
              "    </tr>\n",
              "  </thead>\n",
              "  <tbody>\n",
              "    <tr>\n",
              "      <th>0</th>\n",
              "      <td>(ALARM CLOCK BAKELIKE PINK)</td>\n",
              "      <td>(ALARM CLOCK BAKELIKE GREEN)</td>\n",
              "      <td>0.087336</td>\n",
              "      <td>0.082969</td>\n",
              "      <td>0.063319</td>\n",
              "      <td>0.725000</td>\n",
              "      <td>8.738158</td>\n",
              "      <td>0.056073</td>\n",
              "      <td>3.334657</td>\n",
              "    </tr>\n",
              "    <tr>\n",
              "      <th>1</th>\n",
              "      <td>(ALARM CLOCK BAKELIKE GREEN)</td>\n",
              "      <td>(ALARM CLOCK BAKELIKE PINK)</td>\n",
              "      <td>0.082969</td>\n",
              "      <td>0.087336</td>\n",
              "      <td>0.063319</td>\n",
              "      <td>0.763158</td>\n",
              "      <td>8.738158</td>\n",
              "      <td>0.056073</td>\n",
              "      <td>3.853469</td>\n",
              "    </tr>\n",
              "    <tr>\n",
              "      <th>2</th>\n",
              "      <td>(ALARM CLOCK BAKELIKE RED )</td>\n",
              "      <td>(ALARM CLOCK BAKELIKE GREEN)</td>\n",
              "      <td>0.080786</td>\n",
              "      <td>0.082969</td>\n",
              "      <td>0.067686</td>\n",
              "      <td>0.837838</td>\n",
              "      <td>10.098151</td>\n",
              "      <td>0.060983</td>\n",
              "      <td>5.655022</td>\n",
              "    </tr>\n",
              "    <tr>\n",
              "      <th>3</th>\n",
              "      <td>(ALARM CLOCK BAKELIKE GREEN)</td>\n",
              "      <td>(ALARM CLOCK BAKELIKE RED )</td>\n",
              "      <td>0.082969</td>\n",
              "      <td>0.080786</td>\n",
              "      <td>0.067686</td>\n",
              "      <td>0.815789</td>\n",
              "      <td>10.098151</td>\n",
              "      <td>0.060983</td>\n",
              "      <td>4.990019</td>\n",
              "    </tr>\n",
              "    <tr>\n",
              "      <th>6</th>\n",
              "      <td>(ALARM CLOCK BAKELIKE PINK)</td>\n",
              "      <td>(ALARM CLOCK BAKELIKE RED )</td>\n",
              "      <td>0.087336</td>\n",
              "      <td>0.080786</td>\n",
              "      <td>0.063319</td>\n",
              "      <td>0.725000</td>\n",
              "      <td>8.974324</td>\n",
              "      <td>0.056263</td>\n",
              "      <td>3.342596</td>\n",
              "    </tr>\n",
              "    <tr>\n",
              "      <th>...</th>\n",
              "      <td>...</td>\n",
              "      <td>...</td>\n",
              "      <td>...</td>\n",
              "      <td>...</td>\n",
              "      <td>...</td>\n",
              "      <td>...</td>\n",
              "      <td>...</td>\n",
              "      <td>...</td>\n",
              "      <td>...</td>\n",
              "    </tr>\n",
              "    <tr>\n",
              "      <th>222</th>\n",
              "      <td>(SET/20 RED RETROSPOT PAPER NAPKINS , POSTAGE)</td>\n",
              "      <td>(SET/6 RED SPOTTY PAPER PLATES, SET/6 RED SPOT...</td>\n",
              "      <td>0.093886</td>\n",
              "      <td>0.104803</td>\n",
              "      <td>0.069869</td>\n",
              "      <td>0.744186</td>\n",
              "      <td>7.100775</td>\n",
              "      <td>0.060029</td>\n",
              "      <td>3.499405</td>\n",
              "    </tr>\n",
              "    <tr>\n",
              "      <th>223</th>\n",
              "      <td>(SET/20 RED RETROSPOT PAPER NAPKINS , SET/6 RE...</td>\n",
              "      <td>(SET/6 RED SPOTTY PAPER PLATES, POSTAGE)</td>\n",
              "      <td>0.087336</td>\n",
              "      <td>0.091703</td>\n",
              "      <td>0.069869</td>\n",
              "      <td>0.800000</td>\n",
              "      <td>8.723810</td>\n",
              "      <td>0.061860</td>\n",
              "      <td>4.541485</td>\n",
              "    </tr>\n",
              "    <tr>\n",
              "      <th>224</th>\n",
              "      <td>(SET/6 RED SPOTTY PAPER PLATES)</td>\n",
              "      <td>(SET/20 RED RETROSPOT PAPER NAPKINS , POSTAGE,...</td>\n",
              "      <td>0.109170</td>\n",
              "      <td>0.072052</td>\n",
              "      <td>0.069869</td>\n",
              "      <td>0.640000</td>\n",
              "      <td>8.882424</td>\n",
              "      <td>0.062003</td>\n",
              "      <td>2.577632</td>\n",
              "    </tr>\n",
              "    <tr>\n",
              "      <th>226</th>\n",
              "      <td>(SET/6 RED SPOTTY PAPER CUPS)</td>\n",
              "      <td>(SET/6 RED SPOTTY PAPER PLATES, POSTAGE, SET/2...</td>\n",
              "      <td>0.117904</td>\n",
              "      <td>0.072052</td>\n",
              "      <td>0.069869</td>\n",
              "      <td>0.592593</td>\n",
              "      <td>8.224467</td>\n",
              "      <td>0.061374</td>\n",
              "      <td>2.277690</td>\n",
              "    </tr>\n",
              "    <tr>\n",
              "      <th>227</th>\n",
              "      <td>(SET/20 RED RETROSPOT PAPER NAPKINS )</td>\n",
              "      <td>(SET/6 RED SPOTTY PAPER PLATES, POSTAGE, SET/6...</td>\n",
              "      <td>0.113537</td>\n",
              "      <td>0.087336</td>\n",
              "      <td>0.069869</td>\n",
              "      <td>0.615385</td>\n",
              "      <td>7.046154</td>\n",
              "      <td>0.059953</td>\n",
              "      <td>2.372926</td>\n",
              "    </tr>\n",
              "  </tbody>\n",
              "</table>\n",
              "<p>98 rows × 9 columns</p>\n",
              "</div>\n",
              "      <button class=\"colab-df-convert\" onclick=\"convertToInteractive('df-27277941-6716-4997-adc1-70edb31e6417')\"\n",
              "              title=\"Convert this dataframe to an interactive table.\"\n",
              "              style=\"display:none;\">\n",
              "        \n",
              "  <svg xmlns=\"http://www.w3.org/2000/svg\" height=\"24px\"viewBox=\"0 0 24 24\"\n",
              "       width=\"24px\">\n",
              "    <path d=\"M0 0h24v24H0V0z\" fill=\"none\"/>\n",
              "    <path d=\"M18.56 5.44l.94 2.06.94-2.06 2.06-.94-2.06-.94-.94-2.06-.94 2.06-2.06.94zm-11 1L8.5 8.5l.94-2.06 2.06-.94-2.06-.94L8.5 2.5l-.94 2.06-2.06.94zm10 10l.94 2.06.94-2.06 2.06-.94-2.06-.94-.94-2.06-.94 2.06-2.06.94z\"/><path d=\"M17.41 7.96l-1.37-1.37c-.4-.4-.92-.59-1.43-.59-.52 0-1.04.2-1.43.59L10.3 9.45l-7.72 7.72c-.78.78-.78 2.05 0 2.83L4 21.41c.39.39.9.59 1.41.59.51 0 1.02-.2 1.41-.59l7.78-7.78 2.81-2.81c.8-.78.8-2.07 0-2.86zM5.41 20L4 18.59l7.72-7.72 1.47 1.35L5.41 20z\"/>\n",
              "  </svg>\n",
              "      </button>\n",
              "      \n",
              "  <style>\n",
              "    .colab-df-container {\n",
              "      display:flex;\n",
              "      flex-wrap:wrap;\n",
              "      gap: 12px;\n",
              "    }\n",
              "\n",
              "    .colab-df-convert {\n",
              "      background-color: #E8F0FE;\n",
              "      border: none;\n",
              "      border-radius: 50%;\n",
              "      cursor: pointer;\n",
              "      display: none;\n",
              "      fill: #1967D2;\n",
              "      height: 32px;\n",
              "      padding: 0 0 0 0;\n",
              "      width: 32px;\n",
              "    }\n",
              "\n",
              "    .colab-df-convert:hover {\n",
              "      background-color: #E2EBFA;\n",
              "      box-shadow: 0px 1px 2px rgba(60, 64, 67, 0.3), 0px 1px 3px 1px rgba(60, 64, 67, 0.15);\n",
              "      fill: #174EA6;\n",
              "    }\n",
              "\n",
              "    [theme=dark] .colab-df-convert {\n",
              "      background-color: #3B4455;\n",
              "      fill: #D2E3FC;\n",
              "    }\n",
              "\n",
              "    [theme=dark] .colab-df-convert:hover {\n",
              "      background-color: #434B5C;\n",
              "      box-shadow: 0px 1px 3px 1px rgba(0, 0, 0, 0.15);\n",
              "      filter: drop-shadow(0px 1px 2px rgba(0, 0, 0, 0.3));\n",
              "      fill: #FFFFFF;\n",
              "    }\n",
              "  </style>\n",
              "\n",
              "      <script>\n",
              "        const buttonEl =\n",
              "          document.querySelector('#df-27277941-6716-4997-adc1-70edb31e6417 button.colab-df-convert');\n",
              "        buttonEl.style.display =\n",
              "          google.colab.kernel.accessAllowed ? 'block' : 'none';\n",
              "\n",
              "        async function convertToInteractive(key) {\n",
              "          const element = document.querySelector('#df-27277941-6716-4997-adc1-70edb31e6417');\n",
              "          const dataTable =\n",
              "            await google.colab.kernel.invokeFunction('convertToInteractive',\n",
              "                                                     [key], {});\n",
              "          if (!dataTable) return;\n",
              "\n",
              "          const docLinkHtml = 'Like what you see? Visit the ' +\n",
              "            '<a target=\"_blank\" href=https://colab.research.google.com/notebooks/data_table.ipynb>data table notebook</a>'\n",
              "            + ' to learn more about interactive tables.';\n",
              "          element.innerHTML = '';\n",
              "          dataTable['output_type'] = 'display_data';\n",
              "          await google.colab.output.renderOutput(dataTable, element);\n",
              "          const docLink = document.createElement('div');\n",
              "          docLink.innerHTML = docLinkHtml;\n",
              "          element.appendChild(docLink);\n",
              "        }\n",
              "      </script>\n",
              "    </div>\n",
              "  </div>\n",
              "  "
            ]
          },
          "metadata": {},
          "execution_count": 19
        }
      ]
    },
    {
      "cell_type": "code",
      "source": [
        "import seaborn as sns\n",
        "import matplotlib.pyplot as plt\n",
        "\n",
        "def plot_association_rules(data, x, y, size):\n",
        "    \"\"\"\n",
        "    Plots association rule mining results as a scatterplot.\n",
        "    \n",
        "    Parameters:\n",
        "    data (pandas DataFrame): The data to plot.\n",
        "    x (str): The name of the column to plot on the x-axis.\n",
        "    y (str): The name of the column to plot on the y-axis.\n",
        "    size (str): The name of the column to use for the marker size.\n",
        "    \"\"\"\n",
        "    sns.set_style(\"whitegrid\")  # set the style of the plot\n",
        "    fig, ax = plt.subplots(figsize=(10, 8))  # set the size of the plot\n",
        "\n",
        "    # plot the scatterplot with customized aesthetics\n",
        "    sns.scatterplot(x=x, y=y, size=size, data=data,\n",
        "                    alpha=0.8, edgecolor='none', palette='viridis',\n",
        "                    ax=ax)\n",
        "\n",
        "    # add title and axis labels\n",
        "    ax.set_title(\"Association Rule Mining Results\", fontsize=18)\n",
        "    ax.set_xlabel(x.title(), fontsize=14)\n",
        "    ax.set_ylabel(y.title(), fontsize=14)\n",
        "\n",
        "    # show the plot\n",
        "    plt.show()\n"
      ],
      "metadata": {
        "id": "aaRzqMGi_jzB"
      },
      "execution_count": null,
      "outputs": []
    },
    {
      "cell_type": "code",
      "source": [
        "plot_association_rules(rules, \"support\", \"confidence\", \"lift\")\n"
      ],
      "metadata": {
        "colab": {
          "base_uri": "https://localhost:8080/",
          "height": 763
        },
        "id": "qs0NPiEbAaJF",
        "outputId": "4f34f746-7c32-4337-9f37-5a0730814b23"
      },
      "execution_count": null,
      "outputs": [
        {
          "output_type": "stream",
          "name": "stderr",
          "text": [
            "<ipython-input-22-1f3dbbba5223>:18: UserWarning: Ignoring `palette` because no `hue` variable has been assigned.\n",
            "  sns.scatterplot(x=x, y=y, size=size, data=data,\n"
          ]
        },
        {
          "output_type": "display_data",
          "data": {
            "text/plain": [
              "<Figure size 1000x800 with 1 Axes>"
            ],
            "image/png": "[encoded data removed]"
          },
          "metadata": {}
        }
      ]
    },
    {
      "cell_type": "markdown",
      "source": [
        "# RECOMMENDATION SYSTEM USING COLLABORATIVE FILTERING"
      ],
      "metadata": {
        "id": "BJw7hOhpMpXp"
      }
    },
    {
      "cell_type": "markdown",
      "source": [
        " Collaborative filtering is a technique commonly used in recommendation systems to suggest items to users based on the preferences of other similar users. In this code, two different types of collaborative filtering are used: user-user collaborative filtering and item-item collaborative filtering."
      ],
      "metadata": {
        "id": "QEF-d1fShsSg"
      }
    },
    {
      "cell_type": "code",
      "source": [
        "import pandas as pd\n",
        "from sklearn.metrics.pairwise import cosine_similarity"
      ],
      "metadata": {
        "id": "hOjULh3FM2KM"
      },
      "execution_count": null,
      "outputs": []
    },
    {
      "cell_type": "code",
      "source": [
        "import pandas as pd\n",
        "from sklearn.metrics.pairwise import cosine_similarity\n",
        "\n",
        "# Load the data\n",
        "df = pd.read_csv('OnlineRetail.csv', encoding='unicode_escape')\n",
        "\n",
        "# Filter out rows with missing CustomerID values\n",
        "df = df[df['CustomerID'].notna()]\n",
        "\n",
        "# Filter out customers with IDs outside the specified range\n",
        "df = df[(df['CustomerID'] >= 12346) & (df['CustomerID'] <= 18287)]\n",
        "\n",
        "# Convert Quantity column to integers\n",
        "df.loc[:, 'Quantity'] = df['Quantity'].astype(int)\n",
        "\n",
        "# Drop rows with missing values\n",
        "df.dropna(inplace=True)\n",
        "\n",
        "# Pivot the table to get customer-item matrix\n",
        "customer_item_matrix = df.pivot_table(values='Quantity', index='CustomerID', columns='StockCode', aggfunc='sum', fill_value=0)\n",
        "\n",
        "# Calculate user-user similarity matrix\n",
        "user_user_sim_matrix = pd.DataFrame(cosine_similarity(customer_item_matrix))\n",
        "user_user_sim_matrix.index = customer_item_matrix.index\n",
        "user_user_sim_matrix.columns = customer_item_matrix.index\n",
        "\n",
        "# Define function to get items to recommend to a customer based on customer similarity\n",
        "def get_items_to_recommend_cust(cust_a):\n",
        "    # Check if customer exists in the customer-item matrix\n",
        "    if cust_a not in customer_item_matrix.index:\n",
        "        print(f\"Customer {cust_a} is not available in the customer-item matrix.\")\n",
        "        return None\n",
        "    \n",
        "    # Find most similar customer\n",
        "    most_similar_user = user_user_sim_matrix.loc[cust_a].sort_values(ascending=False).index[1]\n",
        "    \n",
        "    # Get items bought by both customers\n",
        "    items_bought_by_cust_a = set(customer_item_matrix.loc[cust_a][customer_item_matrix.loc[cust_a] > 0].index)\n",
        "    items_bought_by_cust_b = set(customer_item_matrix.loc[most_similar_user][customer_item_matrix.loc[most_similar_user] > 0].index)\n",
        "    \n",
        "    # Get items to recommend to the customer\n",
        "    items_to_recommend_to_a = items_bought_by_cust_b - items_bought_by_cust_a\n",
        "    items_description = df.loc[df['StockCode'].isin(items_to_recommend_to_a), ['StockCode', 'Description']].drop_duplicates().set_index('StockCode')\n",
        "    \n",
        "    return items_description\n",
        "\n",
        "# Get user input for customer ID\n",
        "cust_id = input(\"Please enter a customer ID between 12346 and 18287: \")\n",
        "cust_id = int(cust_id)\n",
        "\n",
        "# Test the function with the user input\n",
        "get_items_to_recommend_cust(cust_id)\n",
        "\n",
        "# Calculate item-item similarity matrix\n",
        "item_item_sim_matrix = pd.DataFrame(cosine_similarity(customer_item_matrix.T))\n",
        "item_item_sim_matrix.index = customer_item_matrix.columns\n",
        "item_item_sim_matrix.columns = customer_item_matrix.columns\n",
        "\n",
        "# Define function to get top similar items to an item\n",
        "def get_top_similar_items(item):\n",
        "    # Get top 10 most similar items\n",
        "    top_10_similar_items = item_item_sim_matrix[item].sort_values(ascending=False).iloc[1:11].index\n",
        "    \n",
        "    # Get descriptions of the top similar items\n",
        "    top_10 = df.loc[df['StockCode'].isin(top_10_similar_items), ['StockCode', 'Description']].drop_duplicates().set_index('StockCode').loc[top_10_similar_items]\n",
        "    \n",
        "    return top_10\n",
        "\n",
        "# Get user input for item code\n",
        "item_code = input(\"Please enter an item code sample 22423, 47566: \")\n",
        "\n",
        "# Test the function with the user input\n",
        "get_top_similar_items(item_code)\n"
      ],
      "metadata": {
        "colab": {
          "base_uri": "https://localhost:8080/",
          "height": 460
        },
        "id": "oCkwto3CQK0R",
        "outputId": "fb1e773f-7dd6-4167-9226-bf1c285f9c07"
      },
      "execution_count": null,
      "outputs": [
        {
          "name": "stdout",
          "output_type": "stream",
          "text": [
            "Please enter a customer ID between 12346 and 18287: 18287\n",
            "Please enter an item code: 22423\n"
          ]
        },
        {
          "output_type": "execute_result",
          "data": {
            "text/plain": [
              "                                   Description\n",
              "StockCode                                     \n",
              "23509             MINI PLAYING CARDS FUN FAIR \n",
              "23382      BOX OF 6 CHRISTMAS CAKE DECORATIONS\n",
              "84952B          BLACK LOVE BIRD T-LIGHT HOLDER\n",
              "84952C         MIRROR LOVE BIRD T-LIGHT HOLDER\n",
              "71459           HANGING JAM JAR T-LIGHT HOLDER\n",
              "71459          HANGING JAM JAR T-LIGHT HOLDERS\n",
              "21499                       BLUE POLKADOT WRAP\n",
              "22752             SET 7 BABUSHKA NESTING BOXES\n",
              "16237                     SLEEPING CAT ERASERS\n",
              "22452             MEASURING TAPE BABUSHKA PINK\n",
              "21500                      PINK POLKADOT WRAP "
            ],
            "text/html": [
              "\n",
              "  <div id=\"df-bae8f939-d838-4270-968f-2b6d161d2397\">\n",
              "    <div class=\"colab-df-container\">\n",
              "      <div>\n",
              "<style scoped>\n",
              "    .dataframe tbody tr th:only-of-type {\n",
              "        vertical-align: middle;\n",
              "    }\n",
              "\n",
              "    .dataframe tbody tr th {\n",
              "        vertical-align: top;\n",
              "    }\n",
              "\n",
              "    .dataframe thead th {\n",
              "        text-align: right;\n",
              "    }\n",
              "</style>\n",
              "<table border=\"1\" class=\"dataframe\">\n",
              "  <thead>\n",
              "    <tr style=\"text-align: right;\">\n",
              "      <th></th>\n",
              "      <th>Description</th>\n",
              "    </tr>\n",
              "    <tr>\n",
              "      <th>StockCode</th>\n",
              "      <th></th>\n",
              "    </tr>\n",
              "  </thead>\n",
              "  <tbody>\n",
              "    <tr>\n",
              "      <th>23509</th>\n",
              "      <td>MINI PLAYING CARDS FUN FAIR</td>\n",
              "    </tr>\n",
              "    <tr>\n",
              "      <th>23382</th>\n",
              "      <td>BOX OF 6 CHRISTMAS CAKE DECORATIONS</td>\n",
              "    </tr>\n",
              "    <tr>\n",
              "      <th>84952B</th>\n",
              "      <td>BLACK LOVE BIRD T-LIGHT HOLDER</td>\n",
              "    </tr>\n",
              "    <tr>\n",
              "      <th>84952C</th>\n",
              "      <td>MIRROR LOVE BIRD T-LIGHT HOLDER</td>\n",
              "    </tr>\n",
              "    <tr>\n",
              "      <th>71459</th>\n",
              "      <td>HANGING JAM JAR T-LIGHT HOLDER</td>\n",
              "    </tr>\n",
              "    <tr>\n",
              "      <th>71459</th>\n",
              "      <td>HANGING JAM JAR T-LIGHT HOLDERS</td>\n",
              "    </tr>\n",
              "    <tr>\n",
              "      <th>21499</th>\n",
              "      <td>BLUE POLKADOT WRAP</td>\n",
              "    </tr>\n",
              "    <tr>\n",
              "      <th>22752</th>\n",
              "      <td>SET 7 BABUSHKA NESTING BOXES</td>\n",
              "    </tr>\n",
              "    <tr>\n",
              "      <th>16237</th>\n",
              "      <td>SLEEPING CAT ERASERS</td>\n",
              "    </tr>\n",
              "    <tr>\n",
              "      <th>22452</th>\n",
              "      <td>MEASURING TAPE BABUSHKA PINK</td>\n",
              "    </tr>\n",
              "    <tr>\n",
              "      <th>21500</th>\n",
              "      <td>PINK POLKADOT WRAP</td>\n",
              "    </tr>\n",
              "  </tbody>\n",
              "</table>\n",
              "</div>\n",
              "      <button class=\"colab-df-convert\" onclick=\"convertToInteractive('df-bae8f939-d838-4270-968f-2b6d161d2397')\"\n",
              "              title=\"Convert this dataframe to an interactive table.\"\n",
              "              style=\"display:none;\">\n",
              "        \n",
              "  <svg xmlns=\"http://www.w3.org/2000/svg\" height=\"24px\"viewBox=\"0 0 24 24\"\n",
              "       width=\"24px\">\n",
              "    <path d=\"M0 0h24v24H0V0z\" fill=\"none\"/>\n",
              "    <path d=\"M18.56 5.44l.94 2.06.94-2.06 2.06-.94-2.06-.94-.94-2.06-.94 2.06-2.06.94zm-11 1L8.5 8.5l.94-2.06 2.06-.94-2.06-.94L8.5 2.5l-.94 2.06-2.06.94zm10 10l.94 2.06.94-2.06 2.06-.94-2.06-.94-.94-2.06-.94 2.06-2.06.94z\"/><path d=\"M17.41 7.96l-1.37-1.37c-.4-.4-.92-.59-1.43-.59-.52 0-1.04.2-1.43.59L10.3 9.45l-7.72 7.72c-.78.78-.78 2.05 0 2.83L4 21.41c.39.39.9.59 1.41.59.51 0 1.02-.2 1.41-.59l7.78-7.78 2.81-2.81c.8-.78.8-2.07 0-2.86zM5.41 20L4 18.59l7.72-7.72 1.47 1.35L5.41 20z\"/>\n",
              "  </svg>\n",
              "      </button>\n",
              "      \n",
              "  <style>\n",
              "    .colab-df-container {\n",
              "      display:flex;\n",
              "      flex-wrap:wrap;\n",
              "      gap: 12px;\n",
              "    }\n",
              "\n",
              "    .colab-df-convert {\n",
              "      background-color: #E8F0FE;\n",
              "      border: none;\n",
              "      border-radius: 50%;\n",
              "      cursor: pointer;\n",
              "      display: none;\n",
              "      fill: #1967D2;\n",
              "      height: 32px;\n",
              "      padding: 0 0 0 0;\n",
              "      width: 32px;\n",
              "    }\n",
              "\n",
              "    .colab-df-convert:hover {\n",
              "      background-color: #E2EBFA;\n",
              "      box-shadow: 0px 1px 2px rgba(60, 64, 67, 0.3), 0px 1px 3px 1px rgba(60, 64, 67, 0.15);\n",
              "      fill: #174EA6;\n",
              "    }\n",
              "\n",
              "    [theme=dark] .colab-df-convert {\n",
              "      background-color: #3B4455;\n",
              "      fill: #D2E3FC;\n",
              "    }\n",
              "\n",
              "    [theme=dark] .colab-df-convert:hover {\n",
              "      background-color: #434B5C;\n",
              "      box-shadow: 0px 1px 3px 1px rgba(0, 0, 0, 0.15);\n",
              "      filter: drop-shadow(0px 1px 2px rgba(0, 0, 0, 0.3));\n",
              "      fill: #FFFFFF;\n",
              "    }\n",
              "  </style>\n",
              "\n",
              "      <script>\n",
              "        const buttonEl =\n",
              "          document.querySelector('#df-bae8f939-d838-4270-968f-2b6d161d2397 button.colab-df-convert');\n",
              "        buttonEl.style.display =\n",
              "          google.colab.kernel.accessAllowed ? 'block' : 'none';\n",
              "\n",
              "        async function convertToInteractive(key) {\n",
              "          const element = document.querySelector('#df-bae8f939-d838-4270-968f-2b6d161d2397');\n",
              "          const dataTable =\n",
              "            await google.colab.kernel.invokeFunction('convertToInteractive',\n",
              "                                                     [key], {});\n",
              "          if (!dataTable) return;\n",
              "\n",
              "          const docLinkHtml = 'Like what you see? Visit the ' +\n",
              "            '<a target=\"_blank\" href=https://colab.research.google.com/notebooks/data_table.ipynb>data table notebook</a>'\n",
              "            + ' to learn more about interactive tables.';\n",
              "          element.innerHTML = '';\n",
              "          dataTable['output_type'] = 'display_data';\n",
              "          await google.colab.output.renderOutput(dataTable, element);\n",
              "          const docLink = document.createElement('div');\n",
              "          docLink.innerHTML = docLinkHtml;\n",
              "          element.appendChild(docLink);\n",
              "        }\n",
              "      </script>\n",
              "    </div>\n",
              "  </div>\n",
              "  "
            ]
          },
          "metadata": {},
          "execution_count": 52
        }
      ]
    },
    {
      "cell_type": "code",
      "source": [
        "stock_codes = customer_item_matrix.columns\n",
        "print(stock_codes)"
      ],
      "metadata": {
        "colab": {
          "base_uri": "https://localhost:8080/"
        },
        "id": "-uPyQF23hipY",
        "outputId": "4b9878ae-9ab4-4d86-c30d-67bfd258f04a"
      },
      "execution_count": null,
      "outputs": [
        {
          "output_type": "stream",
          "name": "stdout",
          "text": [
            "Index(['10002', '10080', '10120', '10123C', '10124A', '10124G', '10125',\n",
            "       '10133', '10135', '11001',\n",
            "       ...\n",
            "       '90214Y', '90214Z', 'BANK CHARGES', 'C2', 'CRUK', 'D', 'DOT', 'M',\n",
            "       'PADS', 'POST'],\n",
            "      dtype='object', name='StockCode', length=3684)\n"
          ]
        }
      ]
    },
    {
      "cell_type": "code",
      "source": [],
      "metadata": {
        "id": "UP7B-WrWZhxx"
      },
      "execution_count": null,
      "outputs": []
    }
  ],
  "metadata": {
    "accelerator": "GPU",
    "colab": {
      "collapsed_sections": [
        "s3d_CcFixKAU",
        "b8Df7aPLye0W",
        "RbYqCp7_Ttix",
        "ixxwFMu-TYCy",
        "BJw7hOhpMpXp"
      ],
      "provenance": [],
      "toc_visible": true
    },
    "gpuClass": "standard",
    "kernelspec": {
      "display_name": "Python 3",
      "name": "python3"
    },
    "language_info": {
      "name": "python"
    }
  },
  "nbformat": 4,
  "nbformat_minor": 0
}